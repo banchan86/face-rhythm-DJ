{
 "cells": [
  {
   "cell_type": "code",
   "execution_count": null,
   "id": "eb297901",
   "metadata": {},
   "outputs": [],
   "source": [
    "# widen jupyter notebook window\n",
    "from IPython.display import display, HTML\n",
    "display(HTML(\"<style>:root { --jp-notebook-max-width: 100% !important; }</style>\"))\n",
    "display(HTML(\"<style>.container {width:100% !important; }</style>\"))"
   ]
  },
  {
   "cell_type": "markdown",
   "id": "e7ca9401",
   "metadata": {},
   "source": [
    "This requires having `bnpm`. Get it with `pip install bnpm` or here: https://github.com/RichieHakim/basic_neural_processing_modules"
   ]
  },
  {
   "cell_type": "code",
   "execution_count": null,
   "id": "b083639c",
   "metadata": {},
   "outputs": [],
   "source": [
    "%load_ext autoreload\n",
    "%autoreload 2\n",
    "    \n",
    "import bnpm"
   ]
  },
  {
   "cell_type": "code",
   "execution_count": null,
   "id": "47fe1e80",
   "metadata": {},
   "outputs": [],
   "source": [
    "import os\n",
    "from pathlib import Path\n",
    "import functools\n",
    "import tempfile\n",
    "import getpass\n",
    "import gc\n",
    "import time"
   ]
  },
  {
   "cell_type": "markdown",
   "id": "6114afcd",
   "metadata": {},
   "source": [
    "------------\n",
    "# ==== Start ===="
   ]
  },
  {
   "cell_type": "markdown",
   "id": "ae33b435",
   "metadata": {},
   "source": [
    "## Prepare username + password"
   ]
  },
  {
   "cell_type": "code",
   "execution_count": null,
   "id": "af73363a",
   "metadata": {},
   "outputs": [],
   "source": [
    "# remote_host_transfer = \"transfer.rc.hms.harvard.edu\"\n",
    "# remote_host_compute = \"o2.hms.harvard.edu\"\n",
    "\n",
    "remote_host_compute = \"rc.fas.harvard.edu\"\n",
    "\n",
    "username = input('Username: ')"
   ]
  },
  {
   "cell_type": "markdown",
   "id": "5cbb7d5b",
   "metadata": {},
   "source": [
    "## Prepare `sftp` and `ssh` objects"
   ]
  },
  {
   "cell_type": "code",
   "execution_count": null,
   "id": "fdf1e2ba",
   "metadata": {},
   "outputs": [],
   "source": [
    "## initialize ssh_transfer\n",
    "if remote_host_compute == 'rc.fas.harvard.edu':\n",
    "    ssh_c = bnpm.server.ssh_interface()\n",
    "    ssh_c.fasrc_connect(username=username)\n",
    "    ssh_t = ssh_c\n",
    "elif remote_host_compute == 'o2.hms.harvard.edu':\n",
    "    use_localSshKey = False\n",
    "    pw = bnpm.server.pw_encode(getpass.getpass(prompt='Password: ')) if (use_localSshKey==False) else None\n",
    "    path_sshKey = '/home/rich/.ssh/id_rsa' if use_localSshKey else None\n",
    "    \n",
    "    ssh_t = bnpm.server.ssh_interface(\n",
    "        nbytes_toReceive=20000,\n",
    "        recv_timeout=1,\n",
    "        verbose=True,\n",
    "    )\n",
    "    ssh_t.o2_connect(\n",
    "        hostname=remote_host_transfer,\n",
    "        username=username,\n",
    "        password=bnpm.server.pw_decode(pw),\n",
    "        key_filename=path_sshKey,\n",
    "        look_for_keys=False,\n",
    "        passcode_method=1,\n",
    "        verbose=0,\n",
    "        skip_passcode=False,    \n",
    "    )\n",
    "    ## initialize ssh_compute\n",
    "    ssh_c = bnpm.server.ssh_interface(\n",
    "        nbytes_toReceive=20000,\n",
    "        recv_timeout=1,\n",
    "        verbose=True,\n",
    "    )\n",
    "    ssh_c.o2_connect(\n",
    "        hostname=remote_host_compute,\n",
    "        username=username,\n",
    "        password=bnpm.server.pw_decode(pw),\n",
    "        key_filename=path_sshKey,\n",
    "        look_for_keys=False,\n",
    "        passcode_method=1,\n",
    "        verbose=0,\n",
    "        skip_passcode=False,    \n",
    "    )"
   ]
  },
  {
   "cell_type": "code",
   "execution_count": null,
   "id": "42da745c-ea62-4b4f-9679-bbb4441c2182",
   "metadata": {},
   "outputs": [],
   "source": [
    "sftp = bnpm.server.sftp_interface(ssh_client=ssh_t.client)\n",
    "\n",
    "prompt_snip = f'[{username}'\n",
    "send_expect = functools.partial(ssh_c.send_expect, str_success=prompt_snip)"
   ]
  },
  {
   "cell_type": "markdown",
   "id": "229c3d31",
   "metadata": {},
   "source": [
    "## Find files and directories with data"
   ]
  },
  {
   "cell_type": "code",
   "execution_count": null,
   "id": "726ad6a8-f76a-4f13-9f4a-3d07c55b5bc7",
   "metadata": {},
   "outputs": [],
   "source": [
    "paths_found = sftp.search_recursive(\n",
    "    # dir_outer='/n/data1/hms/neurobio/sabatini/rich/data/2pRAM/facerhythm_stroke_biomarker_exp/camera/20250303/PS46',\n",
    "    dir_outer='/n/netscratch/bsabatini_lab/Lab/rhakim/data/2pRAM/',\n",
    "    reMatch='video1.*avi',\n",
    "    # reMatch_in_path='20250303',\n",
    "    depth=5,\n",
    "    find_folders=False,\n",
    "    find_files=True,\n",
    "    verbose=True,\n",
    ")"
   ]
  },
  {
   "cell_type": "code",
   "execution_count": null,
   "id": "e3ac238d",
   "metadata": {},
   "outputs": [],
   "source": [
    "import natsort"
   ]
  },
  {
   "cell_type": "code",
   "execution_count": null,
   "id": "5e12dc42",
   "metadata": {},
   "outputs": [],
   "source": [
    "import bnpm.path_helpers\n",
    "\n",
    "\n",
    "dates_toUse = natsort.natsorted([bnpm.path_helpers.find_date_in_path(path).replace('-', '') for path in paths_found])\n",
    "dates_toUse"
   ]
  },
  {
   "cell_type": "code",
   "execution_count": null,
   "id": "3a657e40",
   "metadata": {},
   "outputs": [],
   "source": [
    "# dates_toUse = [\n",
    "#     '20231022',\n",
    "#     '20231023',\n",
    "#     '20231024',\n",
    "#     '20231025',\n",
    "#     '20231026',\n",
    "#     '20231027',\n",
    "#     '20231028',\n",
    "#     '20231029',\n",
    "#     '20231030',\n",
    "#     '20231031',\n",
    "#     '20231101',\n",
    "#     '20231102',\n",
    "#     '20231103',\n",
    "#     '20231104',\n",
    "#     '20231105',\n",
    "#     '20231106'\n",
    "# ]"
   ]
  },
  {
   "cell_type": "markdown",
   "id": "7fdc5f9d",
   "metadata": {},
   "source": [
    "## Start an interactive job for dispatching"
   ]
  },
  {
   "cell_type": "code",
   "execution_count": null,
   "id": "37092baf",
   "metadata": {},
   "outputs": [],
   "source": [
    "# send_expect(f'srun --pty -p interactive -t 0-00:30:00 --mem=2G /bin/bash');\n",
    "send_expect(f'salloc -p kempner --account=kempner_bsabatini_lab --mem=80000 --gres=gpu:1 -c 2 -N 1 -t 0-08:00');"
   ]
  },
  {
   "cell_type": "markdown",
   "id": "88580f93",
   "metadata": {},
   "source": [
    "## Pull/update repo"
   ]
  },
  {
   "cell_type": "code",
   "execution_count": null,
   "id": "2653e8d3",
   "metadata": {},
   "outputs": [],
   "source": [
    "send_expect('cd /n/data1/hms/neurobio/sabatini/rich/github_repos/face-rhythm')\n",
    "send_expect('git pull');"
   ]
  },
  {
   "cell_type": "markdown",
   "id": "4e50d9c8",
   "metadata": {},
   "source": [
    "## Activate environment"
   ]
  },
  {
   "cell_type": "code",
   "execution_count": null,
   "id": "6d0d4465",
   "metadata": {},
   "outputs": [],
   "source": [
    "# name_env = '/n/data1/hms/neurobio/sabatini/rich/virtual_envs/FR'\n",
    "name_env = '/n/home03/rhakim/.conda/envs/fr'\n",
    "\n",
    "send_expect(f'conda activate {name_env}');"
   ]
  },
  {
   "cell_type": "markdown",
   "id": "493b6302",
   "metadata": {},
   "source": [
    "## Install face-rhythm"
   ]
  },
  {
   "cell_type": "code",
   "execution_count": null,
   "id": "27e243d9",
   "metadata": {},
   "outputs": [],
   "source": [
    "send_expect('cd /n/data1/hms/neurobio/sabatini/rich/github_repos/face-rhythm')\n",
    "send_expect(f'pip install -e .[all_cv2Headless] --upgrade')"
   ]
  },
  {
   "cell_type": "code",
   "execution_count": null,
   "id": "48582044",
   "metadata": {
    "scrolled": true
   },
   "outputs": [],
   "source": [
    "# names_st = ['rh183']*0 + ['joz608']*0 + ['km335']*0 + ['gyh930']*0 + ['ccb18']*0 + ['pac4988']*0 + ['aeg38']*0 + ['shl143']*1\n",
    "# for date, name_st in zip(dates_toUse, names_st):\n",
    "for date in dates_toUse[:]:\n",
    "    # cage = 'cage_0916N'\n",
    "    mouse = 'PS46'\n",
    "\n",
    "    name_slurm = mouse + '_' + date[-4:]\n",
    "    name_job = 'jobNum_'\n",
    "    \n",
    "    # dir_videos       = str(Path('/n/data1/hms/neurobio/sabatini/rich/data/2pRAM/facerhythm_stroke_biomarker_exp/camera/') / date / mouse )\n",
    "    # dir_ROIs         = str(Path('/n/data1/hms/neurobio/sabatini/rich/analysis/faceRhythm') / mouse / f'{date}' / 'run_20250308' / 'ROIs_prealigned' / 'ROIs.h5')\n",
    "    # dir_saveOutputs  = str(Path('/n/data1/hms/neurobio/sabatini/rich/analysis/faceRhythm') / mouse / 'run_20250309' / date)\n",
    "    # path_script_remote = str(Path(r'/n/data1/hms/neurobio/sabatini/rich/github_repos/face-rhythm/scripts/run_pipeline_basic.py'))  ## path to a copy of the script (.py) file to run within the repo on the server\n",
    "\n",
    "    dir_videos         = str(Path('/n/netscratch/bsabatini_lab/Lab/rhakim/data/2pRAM/facerhythm_stroke_biomarker_exp/camera/') / mouse / date )\n",
    "    dir_ROIs           = str(Path('/n/holylabs/LABS/bsabatini_lab/Users/rhakim/analysis/face_rhythm') / mouse / f'{date}' / 'run_20250308' / 'ROIs_prealigned' / 'ROIs.h5')\n",
    "    dir_saveOutputs    = str(Path('/n/holylabs/LABS/bsabatini_lab/Users/rhakim/analysis/face_rhythm') / mouse / 'run_20250320' / date)\n",
    "    path_script_remote = str(Path(r'/n/holylabs/LABS/bsabatini_lab/Users/rhakim/github_repos/face-rhythm/scripts/run_pipeline_basic.py'))  ## path to a copy of the script (.py) file to run within the repo on the server\n",
    "\n",
    "\n",
    "    path_dispatcher_local   = str(Path(r'/Users/richardhakim/Documents/github_repos/face-rhythm/batch_run/').resolve() / 'dispatcher.py')  ## path to the dispatcher.py file on local computer\n",
    "    path_dispatcher_remote  = (Path(dir_saveOutputs) / 'dispatcher.py').as_posix()  ## path to where you want the dispatcher.py file to be copied onto the server\n",
    "\n",
    "\n",
    "\n",
    "    ## Expectation for dispatch args: \n",
    "    # path_script, dir_save, dir_videos, dir_ROIs, name_job, name_slurm, name_env\n",
    "\n",
    "\n",
    "    commands = {\n",
    "    #     'make_dir': f\"mkdir -p {dir_data_remote}\",\n",
    "    #     'copy': f\"cp -r {dir_s2p_MICROSCOPE} {dir_data_remote}\",\n",
    "    #     'dispatch': f\"python {str(path_dispatcher_remote)} {dir_saveOutputs} {path_script_remote} {name_job} {name_slurm} {dir_videos}\",  ## dispatcher expecting these args as inputs\n",
    "        'dispatch': f\"\\\n",
    "    python3 \\\n",
    "    {path_dispatcher_remote} \\\n",
    "    {path_script_remote} \\\n",
    "    {dir_saveOutputs} \\\n",
    "    {dir_videos} \\\n",
    "    {dir_ROIs} \\\n",
    "    {name_job} \\\n",
    "    {name_slurm} \\\n",
    "    {name_env}\",\n",
    "    }\n",
    "    display(commands)\n",
    "    \n",
    "    ## Upload `dispatcher.py` file\n",
    "    \n",
    "    sftp.mkdir_p(str(Path(path_dispatcher_remote).parent))\n",
    "    sftp.sftp.put(str(path_dispatcher_local), str(path_dispatcher_remote));\n",
    "\n",
    "\n",
    "    send_expect(commands['dispatch']);\n",
    "\n",
    "\n",
    "    ## For serverteeny usage\n",
    "#     send_expect(f\"chmod 777 {path_dispatcher_remote}\")\n",
    "#     run_file = {\n",
    "#         \"name\": \"Rich\",\n",
    "#         \"o2_acct\": str(name_st),\n",
    "#         \"notes\": f\"basic_run_{mouse}_{date}\",\n",
    "#         \"command\": f\"sbatch /n/data1/hms/neurobio/sabatini/rich/serverteeny_submitter.sh {commands['dispatch']}\",\n",
    "#     }\n",
    "#     path_temp = str(Path(tempfile.gettempdir()) / f'run_{date}.json')\n",
    "#     bnpm.file_helpers.json_save(\n",
    "#         obj=run_file,\n",
    "#         filepath=path_temp,\n",
    "#     )\n",
    "#     sftp.sftp.put(\n",
    "#         localpath=path_temp,\n",
    "#         remotepath=str(Path('/n/data1/hms/neurobio/sabatini/serverteeny/run') / Path(path_temp).name),\n",
    "#     );\n",
    "        "
   ]
  },
  {
   "cell_type": "code",
   "execution_count": null,
   "id": "9dd8f625",
   "metadata": {},
   "outputs": [],
   "source": [
    "ssh_c.expect()"
   ]
  },
  {
   "cell_type": "code",
   "execution_count": null,
   "id": "02744040",
   "metadata": {},
   "outputs": [],
   "source": []
  },
  {
   "cell_type": "code",
   "execution_count": null,
   "id": "bad28e8f",
   "metadata": {},
   "outputs": [],
   "source": []
  },
  {
   "cell_type": "code",
   "execution_count": null,
   "id": "d7cf89f7",
   "metadata": {},
   "outputs": [],
   "source": []
  },
  {
   "cell_type": "markdown",
   "id": "558a1158",
   "metadata": {},
   "source": [
    "## Prepare directories"
   ]
  },
  {
   "cell_type": "code",
   "execution_count": null,
   "id": "97ffab65",
   "metadata": {},
   "outputs": [],
   "source": [
    "import numpy as np\n",
    "\n",
    "mouse = 'mouse_00916N'\n",
    "date = '20230420'\n",
    "\n",
    "name_slurm = date[-4:]\n",
    "\n",
    "dir_videos      = str(Path('/n/data1/hms/neurobio/sabatini/rich/data/res2p/round_7_experiments') / mouse / 'camera_data' / date)\n",
    "\n",
    "dir_ROIs        = str(Path('/n/data1/hms/neurobio/sabatini/rich/analysis/faceRhythm') / mouse / 'run_20230701' / 'ROIs_prealigned' / f'{mouse}__{date}' / 'ROIs.h5')\n",
    "\n",
    "dir_saveOutputs = str(Path('/n/data1/hms/neurobio/sabatini/rich/analysis/faceRhythm') / mouse / 'run_20230701' / date)\n",
    "\n",
    "\n",
    "name_job = 'jobNum_'\n",
    "\n",
    "\n",
    "path_script_remote      = str(Path(r'/n/data1/hms/neurobio/sabatini/rich/github_repos/face-rhythm/scripts/run_pipeline_basic.py'))  ## path to a copy of the script (.py) file to run within the repo on the server\n",
    "\n",
    "path_dispatcher_local   = str(Path(r'/media/rich/Home_Linux_partition/github_repos/face-rhythm/batch_run/').resolve() / 'dispatcher.py')  ## path to the dispatcher.py file on local computer\n",
    "path_dispatcher_remote  = (Path(dir_saveOutputs) / 'dispatcher.py').as_posix()  ## path to where you want the dispatcher.py file to be copied onto the server\n"
   ]
  },
  {
   "cell_type": "markdown",
   "id": "31ce097b",
   "metadata": {},
   "source": [
    "## Prepare commands"
   ]
  },
  {
   "cell_type": "code",
   "execution_count": null,
   "id": "bea9dd44",
   "metadata": {},
   "outputs": [],
   "source": [
    "## Expectation for dispatch args: \n",
    "# path_script, dir_save, dir_videos, dir_ROIs, name_job, name_slurm, name_env\n",
    "\n",
    "commands = {\n",
    "#     'make_dir': f\"mkdir -p {dir_data_remote}\",\n",
    "#     'copy': f\"cp -r {dir_s2p_MICROSCOPE} {dir_data_remote}\",\n",
    "#     'dispatch': f\"python {str(path_dispatcher_remote)} {dir_saveOutputs} {path_script_remote} {name_job} {name_slurm} {dir_videos}\",  ## dispatcher expecting these args as inputs\n",
    "    'dispatch': f\"\\\n",
    "python3 \\\n",
    "{path_dispatcher_remote} \\\n",
    "{path_script_remote} \\\n",
    "{dir_saveOutputs} \\\n",
    "{dir_videos} \\\n",
    "{dir_ROIs} \\\n",
    "{name_job} \\\n",
    "{name_slurm} \\\n",
    "{name_env}\",\n",
    "}\n",
    "display(commands)"
   ]
  },
  {
   "cell_type": "markdown",
   "id": "f62cb3b7",
   "metadata": {},
   "source": [
    "## Upload `dispatcher.py` file"
   ]
  },
  {
   "cell_type": "code",
   "execution_count": null,
   "id": "2e23ecc2",
   "metadata": {},
   "outputs": [],
   "source": [
    "sftp.mkdir_p(str(Path(path_dispatcher_remote).parent))\n",
    "sftp.sftp.put(str(path_dispatcher_local), str(path_dispatcher_remote));"
   ]
  },
  {
   "cell_type": "markdown",
   "id": "c89ee6cc",
   "metadata": {},
   "source": [
    "## Dispatch"
   ]
  },
  {
   "cell_type": "code",
   "execution_count": null,
   "id": "cb08359e-8035-42b8-b49b-a85662984736",
   "metadata": {},
   "outputs": [],
   "source": [
    "send_expect(commands['dispatch']);"
   ]
  },
  {
   "cell_type": "code",
   "execution_count": null,
   "id": "dc4e2851-d1c1-4531-94db-52be98908f3c",
   "metadata": {},
   "outputs": [],
   "source": []
  },
  {
   "cell_type": "code",
   "execution_count": null,
   "id": "8cd5d032",
   "metadata": {},
   "outputs": [],
   "source": []
  },
  {
   "cell_type": "code",
   "execution_count": null,
   "id": "748615b2",
   "metadata": {},
   "outputs": [],
   "source": []
  },
  {
   "cell_type": "code",
   "execution_count": null,
   "id": "edacfa1b",
   "metadata": {},
   "outputs": [],
   "source": []
  },
  {
   "cell_type": "code",
   "execution_count": null,
   "id": "fe7866de",
   "metadata": {},
   "outputs": [],
   "source": []
  },
  {
   "cell_type": "code",
   "execution_count": null,
   "id": "e2489afa",
   "metadata": {},
   "outputs": [],
   "source": []
  },
  {
   "cell_type": "code",
   "execution_count": null,
   "id": "5ab5df5c",
   "metadata": {},
   "outputs": [],
   "source": []
  },
  {
   "cell_type": "code",
   "execution_count": null,
   "id": "80c07ab1",
   "metadata": {},
   "outputs": [],
   "source": []
  },
  {
   "cell_type": "code",
   "execution_count": null,
   "id": "660565ed",
   "metadata": {},
   "outputs": [],
   "source": []
  },
  {
   "cell_type": "code",
   "execution_count": null,
   "id": "7df7f9f8",
   "metadata": {},
   "outputs": [],
   "source": []
  },
  {
   "cell_type": "code",
   "execution_count": null,
   "id": "3f02b3a4",
   "metadata": {},
   "outputs": [],
   "source": []
  },
  {
   "cell_type": "code",
   "execution_count": null,
   "id": "1c6e1d31",
   "metadata": {},
   "outputs": [],
   "source": []
  },
  {
   "cell_type": "code",
   "execution_count": null,
   "id": "f8de7464",
   "metadata": {},
   "outputs": [],
   "source": []
  },
  {
   "cell_type": "code",
   "execution_count": null,
   "id": "d2f268bc-f474-48b1-b413-e2cae9350a9c",
   "metadata": {},
   "outputs": [],
   "source": []
  },
  {
   "cell_type": "code",
   "execution_count": null,
   "id": "02e9f10a-7034-409f-b2a4-73181b2f4e96",
   "metadata": {},
   "outputs": [],
   "source": []
  },
  {
   "cell_type": "code",
   "execution_count": null,
   "id": "c1efbf4d-560b-4274-925e-1aca3fc1985c",
   "metadata": {
    "scrolled": true
   },
   "outputs": [],
   "source": [
    "# for date in dates_toUse:\n",
    "for date in dates_toUse[:]:\n",
    "    # mouse = 'mouse_0403L'\n",
    "    mouse = 'mouse_0322N'\n",
    "    # date = '20230420'\n",
    "    \n",
    "    name_slurm = date[-4:]\n",
    "    \n",
    "    dir_videos      = str(Path('/n/data1/hms/neurobio/sabatini/rich/data/res2p/round_7_experiments') / mouse / 'camera_data' / date)\n",
    "    \n",
    "    # dir_ROIs        = str(Path('/n/data1/hms/neurobio/sabatini/rich/analysis/faceRhythm') / mouse / 'run_20230903' / 'ROIs_prealigned' / f'{date}' / 'ROIs.h5')\n",
    "    dir_ROIs        = str(Path('/n/data1/hms/neurobio/sabatini/rich/analysis/faceRhythm') / mouse / 'run_20230701' / 'ROIs_prealigned' / f'{mouse}__{date}' / 'ROIs.h5')\n",
    "    \n",
    "    # dir_saveOutputs = str(Path('/n/data1/hms/neurobio/sabatini/rich/analysis/faceRhythm') / mouse / 'run_20230903' / date)\n",
    "    dir_saveOutputs = str(Path('/n/data1/hms/neurobio/sabatini/rich/analysis/faceRhythm') / mouse / 'run_20230701' / date)\n",
    "    \n",
    "    \n",
    "    \n",
    "    name_job = 'jobNum_'\n",
    "    \n",
    "    \n",
    "    path_script_remote      = str(Path(r'/n/data1/hms/neurobio/sabatini/rich/github_repos/face-rhythm/scripts/run_pipeline_basic.py'))  ## path to a copy of the script (.py) file to run within the repo on the server\n",
    "    \n",
    "    path_dispatcher_local   = str(Path(r'/media/rich/Home_Linux_partition/github_repos/face-rhythm/batch_run/').resolve() / 'dispatcher.py')  ## path to the dispatcher.py file on local computer\n",
    "    path_dispatcher_remote  = (Path(dir_saveOutputs) / 'dispatcher.py').as_posix()  ## path to where you want the dispatcher.py file to be copied onto the server\n",
    "    \n",
    "    \n",
    "    ## Prepare commands\n",
    "    \n",
    "    ## Expectation for dispatch args: \n",
    "    # path_script, dir_save, dir_videos, dir_ROIs, name_job, name_slurm, name_env\n",
    "    \n",
    "    commands = {\n",
    "    #     'make_dir': f\"mkdir -p {dir_data_remote}\",\n",
    "    #     'copy': f\"cp -r {dir_s2p_MICROSCOPE} {dir_data_remote}\",\n",
    "    #     'dispatch': f\"python {str(path_dispatcher_remote)} {dir_saveOutputs} {path_script_remote} {name_job} {name_slurm} {dir_videos}\",  ## dispatcher expecting these args as inputs\n",
    "        'dispatch': f\"\\\n",
    "    python3 \\\n",
    "    {path_dispatcher_remote} \\\n",
    "    {path_script_remote} \\\n",
    "    {dir_saveOutputs} \\\n",
    "    {dir_videos} \\\n",
    "    {dir_ROIs} \\\n",
    "    {name_job} \\\n",
    "    {name_slurm} \\\n",
    "    {name_env}\",\n",
    "    }\n",
    "    display(commands)\n",
    "    \n",
    "    ## Upload `dispatcher.py` file\n",
    "    \n",
    "    sftp.mkdir_p(str(Path(path_dispatcher_remote).parent))\n",
    "    sftp.sftp.put(str(path_dispatcher_local), str(path_dispatcher_remote));\n",
    "    \n",
    "    ## Dispatch\n",
    "    \n",
    "    # send_expect(commands['dispatch']);\n",
    "\n",
    "    # time.sleep(60)"
   ]
  },
  {
   "cell_type": "code",
   "execution_count": null,
   "id": "b515fe37-b22d-48d7-ad8b-d52c7d14b85b",
   "metadata": {},
   "outputs": [],
   "source": [
    "paths_all = sftp.search_recursive(\n",
    "    path=r'/n/data1/hms/neurobio/sabatini/rich/analysis/faceRhythm/mouse_0322N/run_20230701/',\n",
    "    search_pattern_re='VQT_Analyzer.h5',\n",
    "    max_depth=8,\n",
    ")"
   ]
  },
  {
   "cell_type": "code",
   "execution_count": null,
   "id": "e789110b-de5b-4d01-a580-8602bdca45bf",
   "metadata": {},
   "outputs": [],
   "source": [
    "{p: f['last_modified'] for p, f in sftp.get_fileProperties(paths_all, error_on_missing=True).items()}"
   ]
  },
  {
   "cell_type": "code",
   "execution_count": null,
   "id": "1ef0f224-4f39-434f-a759-46de206a36a5",
   "metadata": {},
   "outputs": [],
   "source": [
    "send_expect('pip uninstall face-rhythm')"
   ]
  },
  {
   "cell_type": "code",
   "execution_count": null,
   "id": "d6af92e0-223f-4e07-8988-052e8598221e",
   "metadata": {},
   "outputs": [],
   "source": [
    "send_expect('y')"
   ]
  },
  {
   "cell_type": "code",
   "execution_count": null,
   "id": "3e284829-c620-4ba9-9c67-9675881405be",
   "metadata": {},
   "outputs": [],
   "source": [
    "send_expect('pip install -e .')"
   ]
  },
  {
   "cell_type": "code",
   "execution_count": null,
   "id": "ad2fdc8f-155a-4762-8341-614283de12c8",
   "metadata": {},
   "outputs": [],
   "source": [
    "send_expect('pip list')"
   ]
  },
  {
   "cell_type": "code",
   "execution_count": null,
   "id": "f8aaefc5-23ea-4454-ac78-af5cb2255217",
   "metadata": {},
   "outputs": [],
   "source": [
    "send_expect()"
   ]
  },
  {
   "cell_type": "code",
   "execution_count": null,
   "id": "0b6df968-bde4-40ff-acee-ee8b3adc845a",
   "metadata": {},
   "outputs": [],
   "source": []
  },
  {
   "cell_type": "markdown",
   "id": "69017000",
   "metadata": {},
   "source": [
    "## Run with serverteeny"
   ]
  },
  {
   "cell_type": "raw",
   "id": "49ddd247-c0aa-4407-9441-9ca0ad5b6edf",
   "metadata": {},
   "source": [
    "send_expect(f\"chmod 777 {path_dispatcher_remote}\")"
   ]
  },
  {
   "cell_type": "raw",
   "id": "b79a1c06-9f09-4f8b-825d-236f7405e6e2",
   "metadata": {},
   "source": [
    "run_file = {\n",
    "    \"name\": \"Rich\",\n",
    "    \"o2_acct\": \"shl143\",\n",
    "    \"notes\": \"testing serverteeny for FR\",\n",
    "    \"command\": f\"sbatch /n/data1/hms/neurobio/sabatini/rich/serverteeny_submitter.sh {commands['dispatch']}\",\n",
    "}"
   ]
  },
  {
   "cell_type": "raw",
   "id": "10452423-51e2-4465-8ac1-c1bfebecedec",
   "metadata": {},
   "source": [
    "path_temp = str(Path(tempfile.gettempdir()) / 'run.json')\n",
    "bnpm.file_helpers.json_save(\n",
    "    obj=run_file,\n",
    "    filepath=path_temp,\n",
    ")"
   ]
  },
  {
   "cell_type": "raw",
   "id": "186a0651-d0d9-449d-bb0f-d323911b800f",
   "metadata": {},
   "source": [
    "sftp.sftp.put(\n",
    "    localpath=path_temp,\n",
    "    remotepath=str(Path('/n/data1/hms/neurobio/sabatini/serverteeny/run') / Path(path_temp).name),\n",
    ");"
   ]
  },
  {
   "cell_type": "markdown",
   "id": "e6ea7494",
   "metadata": {},
   "source": [
    "### check on job"
   ]
  },
  {
   "cell_type": "raw",
   "id": "90c33075",
   "metadata": {
    "scrolled": true
   },
   "source": [
    "ssh_c.send_expect(f'squeue -u {username} --Format=jobid,name,partition,state,timeused,starttime,timelimit,reasonlist,minmemory,mincpus,gres');"
   ]
  },
  {
   "cell_type": "markdown",
   "id": "33600579",
   "metadata": {},
   "source": [
    "## Clean up"
   ]
  },
  {
   "cell_type": "code",
   "execution_count": null,
   "id": "b31f6bcb",
   "metadata": {},
   "outputs": [],
   "source": [
    "## delete password\n",
    "del pw\n",
    "gc.collect()\n",
    "\n",
    "## close sftp\n",
    "if sftp: sftp.close()\n",
    "if transport: transport.close()\n",
    "del sftp\n",
    "del transport\n",
    "    \n",
    "## close ssh\n",
    "ssh_t.close()\n",
    "del ssh_t\n",
    "ssh_c.close()\n",
    "del ssh_c\n",
    "gc.collect()"
   ]
  },
  {
   "cell_type": "code",
   "execution_count": null,
   "id": "b1e29db0",
   "metadata": {},
   "outputs": [],
   "source": []
  },
  {
   "cell_type": "code",
   "execution_count": null,
   "id": "a2ee21fd",
   "metadata": {},
   "outputs": [],
   "source": []
  }
 ],
 "metadata": {
  "kernelspec": {
   "display_name": "fr",
   "language": "python",
   "name": "python3"
  },
  "language_info": {
   "codemirror_mode": {
    "name": "ipython",
    "version": 3
   },
   "file_extension": ".py",
   "mimetype": "text/x-python",
   "name": "python",
   "nbconvert_exporter": "python",
   "pygments_lexer": "ipython3",
   "version": "3.11.11"
  }
 },
 "nbformat": 4,
 "nbformat_minor": 5
}
