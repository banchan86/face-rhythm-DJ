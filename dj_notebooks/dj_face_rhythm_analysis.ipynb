{
 "cells": [
  {
   "cell_type": "markdown",
   "id": "47362bc7",
   "metadata": {},
   "source": [
    "#### Authorship\n",
    "\n",
    "Created by Shawn Tan (banchan@gmail.com) for DJ BambahMukku Lab\n",
    "\n",
    "#### Changelog\n",
    "\n",
    "2/24/25 - Added imports and loading of face_rhythm data, as well as raw displacement over time.\n",
    "\n",
    "#### Description\n",
    "- Processes bonsai output for stimuli alignment.\n",
    "- Analyzes face_rhythm data\n",
    "\n",
    "#### Instructions\n",
    "- Install face_rhythm (this script calls on some functions from there)\n",
    "- Install seaborn (plotting library)\n",
    "- `conda activate face_rhythm`\n",
    "- `jupyter notebook`\n",
    "\n",
    "#### Project organization\n",
    "- face_rhythm folder (clone modified repository https://github.com/banchan86/face-rhythm-DJ)\n",
    "- airpuff data folder\n",
    "  - experimental day folder\n",
    "    - subject ID folder\n",
    "      - bonsai output\n",
    "      - facerhythm output"
   ]
  },
  {
   "cell_type": "markdown",
   "id": "c8a0bc75",
   "metadata": {},
   "source": [
    "# Imports"
   ]
  },
  {
   "cell_type": "code",
   "execution_count": 5,
   "id": "75dbd4c3",
   "metadata": {},
   "outputs": [],
   "source": [
    "import seaborn as sns\n",
    "import face_rhythm as fr\n",
    "import matplotlib.pyplot as plt\n",
    "import numpy as np\n",
    "from pathlib import Path"
   ]
  },
  {
   "cell_type": "markdown",
   "id": "59c16930",
   "metadata": {},
   "source": [
    "# Individual Session Analysis"
   ]
  },
  {
   "cell_type": "markdown",
   "id": "550cba2c",
   "metadata": {},
   "source": [
    "# Load session data"
   ]
  },
  {
   "cell_type": "code",
   "execution_count": 7,
   "id": "39058136",
   "metadata": {},
   "outputs": [],
   "source": [
    "# Define constants for folder location\n",
    "data_folder = \"Airpuff_Data\"\n",
    "experiment_day = \"02_18_25_Pilot_WT_P2\"\n",
    "subjectID = \"pilot4-WT-P4_female\""
   ]
  },
  {
   "cell_type": "code",
   "execution_count": 16,
   "id": "72c0db84",
   "metadata": {},
   "outputs": [],
   "source": [
    "session_folder = str(Path(\"../\").resolve() / data_folder / experiment_day / subjectID)\n"
   ]
  },
  {
   "cell_type": "code",
   "execution_count": 17,
   "id": "519cf3a8",
   "metadata": {},
   "outputs": [
    {
     "name": "stdout",
     "output_type": "stream",
     "text": [
      "C:\\Users\\shawn\\Desktop\\face-rhythm-DJ\\Airpuff_Data\\02_18_25_Pilot_WT_P2\\pilot4-WT-P4_female\n"
     ]
    }
   ],
   "source": [
    "print(session_folder)"
   ]
  },
  {
   "cell_type": "markdown",
   "id": "f36b636f",
   "metadata": {},
   "source": [
    "# Generate Airpuff stimulus framestamps"
   ]
  },
  {
   "cell_type": "code",
   "execution_count": null,
   "id": "1ee01c35",
   "metadata": {},
   "outputs": [],
   "source": []
  },
  {
   "cell_type": "markdown",
   "id": "f6548632",
   "metadata": {},
   "source": [
    "# Plot frame by frame displacement"
   ]
  },
  {
   "cell_type": "code",
   "execution_count": null,
   "id": "d283469f",
   "metadata": {},
   "outputs": [],
   "source": [
    "raw_data = fr.h5_handling.simple_load(\"analysis_files\\\\PointTracker.h5\")"
   ]
  },
  {
   "cell_type": "code",
   "execution_count": 73,
   "id": "4d62a844",
   "metadata": {},
   "outputs": [],
   "source": [
    "# Compute displacement: difference between consecutive frames\n",
    "delta = np.diff(raw_data[\"points_tracked\"][\"0\"], axis = 0) # Shape: (33484, 185, 2) (One less frame)"
   ]
  },
  {
   "cell_type": "code",
   "execution_count": 74,
   "id": "52912771",
   "metadata": {},
   "outputs": [],
   "source": [
    "# Compute Euclidean distance for each point\n",
    "displacement = np.linalg.norm(delta, axis=2)  # Shape: (33484, 185)"
   ]
  },
  {
   "cell_type": "code",
   "execution_count": 77,
   "id": "1b3614a7",
   "metadata": {},
   "outputs": [],
   "source": [
    "# Compute mean displacement across all points\n",
    "mean_displacement = np.mean(displacement, axis=1)  # Shape: (33484,)"
   ]
  },
  {
   "cell_type": "code",
   "execution_count": 94,
   "id": "1d3cd487",
   "metadata": {},
   "outputs": [
    {
     "data": {
      "image/png": "[encoded data removed]",
      "text/plain": [
       "<Figure size 1000x200 with 1 Axes>"
      ]
     },
     "metadata": {},
     "output_type": "display_data"
    }
   ],
   "source": [
    "# plot mean displacement over time\n",
    "plt.figure(figsize=(10, 2))\n",
    "sns.lineplot(x = np.arange(33484), y=mean_displacement)\n",
    "\n",
    "# overlay airpuffs\n",
    "airpuffs = [3081, 5381, 7582, 10282, 13083, 15483, 17584, 20183, 22485, 25185, 28186, 31186, 33187]\n",
    "\n",
    "for event in airpuffs:\n",
    "    plt.axvline(x=event, color=\"red\", linestyle=\"--\", alpha=0.2, label=f\"Event at {event}\")"
   ]
  },
  {
   "cell_type": "code",
   "execution_count": null,
   "id": "0543e9f1",
   "metadata": {},
   "outputs": [],
   "source": []
  },
  {
   "cell_type": "markdown",
   "id": "42605562",
   "metadata": {},
   "source": [
    "# Supplementary: Data inspection "
   ]
  },
  {
   "cell_type": "code",
   "execution_count": null,
   "id": "8cdee5ab",
   "metadata": {},
   "outputs": [],
   "source": [
    "# Shawn's notes 2/24/25\n",
    "# I wrote this section to inspect the point tracking data produced by face-rhythm and write some notes.\n",
    "# Doesnt need to be run (unless you run into some errors at some point and need to figure out what is wrong)\n",
    "# key 1 - mask is a numpy.ndarray with a boolean value for every pixel in the (vertical video) x (horizontal video) frame. ROI\n",
    "# key 2 - mesh_d0 is a numpy.ndarray that is the (number of points) x (x and y coords). unclear what it is\n",
    "# key 3 - neighbors is a numpy.ndarray that is the (number of points) x (list of 40 neighbours), probably the index of the closest neighbours\n",
    "# key 4 - point_positions is the (number of points) x (x and y coords). seem to be the initial mesh point position\n",
    "# key 5 - points tracked is the motherload. its a (frame)x(number of points)x (x and y coords). "
   ]
  },
  {
   "cell_type": "code",
   "execution_count": null,
   "id": "44ea0f03",
   "metadata": {},
   "outputs": [],
   "source": [
    "raw_data = fr.h5_handling.simple_load(\"analysis_files\\\\PointTracker.h5\")"
   ]
  },
  {
   "cell_type": "code",
   "execution_count": 18,
   "id": "a839af9a",
   "metadata": {},
   "outputs": [
    {
     "name": "stdout",
     "output_type": "stream",
     "text": [
      "mask <class 'numpy.ndarray'>\n",
      "mesh_d0 <class 'numpy.ndarray'>\n",
      "neighbors <class 'numpy.ndarray'>\n",
      "point_positions <class 'numpy.ndarray'>\n",
      "points_tracked <class 'dict'>\n",
      "violations <class 'dict'>\n"
     ]
    }
   ],
   "source": [
    "for key in raw_data.keys():\n",
    "    print(key, type(raw_data[key]))"
   ]
  },
  {
   "cell_type": "code",
   "execution_count": 33,
   "id": "14b6946e",
   "metadata": {},
   "outputs": [
    {
     "name": "stdout",
     "output_type": "stream",
     "text": [
      "(750, 1440)\n"
     ]
    },
    {
     "data": {
      "text/plain": [
       "<Axes: >"
      ]
     },
     "execution_count": 33,
     "metadata": {},
     "output_type": "execute_result"
    },
    {
     "data": {
      "image/png": "[encoded data removed]",
      "text/plain": [
       "<Figure size 400x200 with 2 Axes>"
      ]
     },
     "metadata": {},
     "output_type": "display_data"
    }
   ],
   "source": [
    "# mask visualization section\n",
    "print(raw_data[\"mask\"].shape)\n",
    "plt.figure(figsize=(4, 2))\n",
    "sns.heatmap(raw_data[\"mask\"])"
   ]
  },
  {
   "cell_type": "code",
   "execution_count": 47,
   "id": "641b69e5",
   "metadata": {},
   "outputs": [
    {
     "name": "stdout",
     "output_type": "stream",
     "text": [
      "(185, 2)\n"
     ]
    },
    {
     "data": {
      "text/plain": [
       "<Axes: >"
      ]
     },
     "execution_count": 47,
     "metadata": {},
     "output_type": "execute_result"
    },
    {
     "data": {
      "image/png": "[encoded data removed]",
      "text/plain": [
       "<Figure size 400x200 with 1 Axes>"
      ]
     },
     "metadata": {},
     "output_type": "display_data"
    }
   ],
   "source": [
    "# mesh_d0 visualization section\n",
    "print(raw_data[\"mesh_d0\"].shape)\n",
    "plt.figure(figsize=(4, 2))\n",
    "plt.xlim(0, 50)\n",
    "plt.ylim(0, 50)\n",
    "sns.scatterplot(x = raw_data[\"mesh_d0\"][:,0], y = raw_data[\"mesh_d0\"][:,1], )"
   ]
  },
  {
   "cell_type": "code",
   "execution_count": 50,
   "id": "8c162b18",
   "metadata": {},
   "outputs": [
    {
     "name": "stdout",
     "output_type": "stream",
     "text": [
      "(185, 40)\n",
      "[[  0   1   9 ...  58  24  57]\n",
      " [  1   0   2 ...  49  60  61]\n",
      " [  2   1   3 ...  61  29  37]\n",
      " ...\n",
      " [182 173 181 ... 146 139 133]\n",
      " [183 174 182 ... 140 178 155]\n",
      " [184 180 181 ... 144 152 156]]\n"
     ]
    }
   ],
   "source": [
    "# neighbours visualization section\n",
    "print(raw_data[\"neighbors\"].shape)\n",
    "print(raw_data[\"neighbors\"])"
   ]
  },
  {
   "cell_type": "code",
   "execution_count": 62,
   "id": "7a3b2696",
   "metadata": {},
   "outputs": [
    {
     "name": "stdout",
     "output_type": "stream",
     "text": [
      "(185, 2)\n"
     ]
    },
    {
     "data": {
      "text/plain": [
       "<Axes: >"
      ]
     },
     "execution_count": 62,
     "metadata": {},
     "output_type": "execute_result"
    },
    {
     "data": {
      "image/png": "[encoded data removed]",
      "text/plain": [
       "<Figure size 400x200 with 1 Axes>"
      ]
     },
     "metadata": {},
     "output_type": "display_data"
    }
   ],
   "source": [
    "# point_positions visualization section\n",
    "print(raw_data[\"point_positions\"].shape)\n",
    "plt.figure(figsize=(4, 2))\n",
    "plt.xlim(0, 1440)\n",
    "plt.ylim(0, 750)\n",
    "sns.scatterplot(x = raw_data[\"point_positions\"][:,0], y = raw_data[\"point_positions\"][:,1], s =1)"
   ]
  },
  {
   "cell_type": "code",
   "execution_count": 82,
   "id": "f4fd908e",
   "metadata": {},
   "outputs": [
    {
     "name": "stdout",
     "output_type": "stream",
     "text": [
      "(33485, 185, 2)\n"
     ]
    }
   ],
   "source": [
    "# points_tracked visualization section\n",
    "print(raw_data[\"points_tracked\"][\"0\"].shape)"
   ]
  },
  {
   "cell_type": "code",
   "execution_count": 89,
   "id": "15298b1d",
   "metadata": {},
   "outputs": [
    {
     "name": "stdout",
     "output_type": "stream",
     "text": [
      "{'col': array([ 16,  25,  26, ..., 151, 152, 153]), 'data': array([ True,  True,  True, ...,  True,  True,  True]), 'row': array([21548, 21548, 21548, ..., 31760, 31760, 31760]), 'shape': array([33485,   185])}\n"
     ]
    }
   ],
   "source": [
    "print(raw_data[\"violations\"][\"0\"])"
   ]
  }
 ],
 "metadata": {
  "kernelspec": {
   "display_name": "Python 3 (ipykernel)",
   "language": "python",
   "name": "python3"
  },
  "language_info": {
   "codemirror_mode": {
    "name": "ipython",
    "version": 3
   },
   "file_extension": ".py",
   "mimetype": "text/x-python",
   "name": "python",
   "nbconvert_exporter": "python",
   "pygments_lexer": "ipython3",
   "version": "3.11.11"
  }
 },
 "nbformat": 4,
 "nbformat_minor": 5
}
