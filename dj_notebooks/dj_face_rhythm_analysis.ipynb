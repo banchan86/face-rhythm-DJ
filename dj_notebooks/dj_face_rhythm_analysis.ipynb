{
 "cells": [
  {
   "cell_type": "markdown",
   "id": "47362bc7",
   "metadata": {},
   "source": [
    "#### Authorship\n",
    "\n",
    "Created by Shawn Tan (banchan@gmail.com) for DJ BambahMukku Lab\n",
    "\n",
    "#### Changelog\n",
    "\n",
    "2/24/25 - Added imports and loading of face_rhythm data, as well as raw displacement over time.\n",
    "\n",
    "3/25/25 - Added bonsai stimuli alignment.\n",
    "\n",
    "3/26/25 - Added individual plots for stimuli.\n",
    "\n",
    "3/27/25 - Added frame rejection and baseline movement rejection and summary plots. Also refactored a lot of the code for simplicity. \n",
    "\n",
    "#### Description\n",
    "- Processes bonsai output for stimuli alignment.\n",
    "- Analyzes face_rhythm data\n",
    "\n",
    "#### Instructions\n",
    "- Install face_rhythm (this script calls on some functions from there)\n",
    "- Install seaborn (plotting library)\n",
    "- `conda activate face_rhythm`\n",
    "- `jupyter notebook`\n",
    "\n",
    "#### Project organization\n",
    "- face_rhythm folder (clone modified repository https://github.com/banchan86/face-rhythm-DJ)\n",
    "- airpuff data folder\n",
    "  - experimental day folder\n",
    "    - subject ID folder\n",
    "      - bonsai output\n",
    "      - facerhythm output"
   ]
  },
  {
   "cell_type": "markdown",
   "id": "4b5fc851",
   "metadata": {},
   "source": [
    "# Setup"
   ]
  },
  {
   "cell_type": "markdown",
   "id": "c8a0bc75",
   "metadata": {},
   "source": [
    "Import Python libraries"
   ]
  },
  {
   "cell_type": "code",
   "execution_count": 24,
   "id": "75dbd4c3",
   "metadata": {},
   "outputs": [],
   "source": [
    "import seaborn as sns\n",
    "import face_rhythm as fr\n",
    "import pandas as pd\n",
    "import matplotlib.pyplot as plt\n",
    "import numpy as np\n",
    "import math\n",
    "from pathlib import Path"
   ]
  },
  {
   "cell_type": "markdown",
   "id": "7d6f310f",
   "metadata": {},
   "source": [
    "Define constants for folder location"
   ]
  },
  {
   "cell_type": "code",
   "execution_count": 25,
   "id": "39058136",
   "metadata": {},
   "outputs": [],
   "source": [
    "data_folder = \"Airpuff_Data\"\n",
    "experiment_day = \"03192025_Cage_PN36\"\n",
    "subjectID = \"UROM\"\n",
    "session_folder = Path(\"../../\").resolve() / data_folder / experiment_day / subjectID\n",
    "rejection_file = session_folder / \"bonsai_aligned\" / \"frame_rejection.csv\""
   ]
  },
  {
   "cell_type": "markdown",
   "id": "59c16930",
   "metadata": {},
   "source": [
    "# Individual Session Analysis"
   ]
  },
  {
   "cell_type": "markdown",
   "id": "a9dbaef0",
   "metadata": {},
   "source": [
    "If data has already been processed, skip to loading data (just before the plotting section)."
   ]
  },
  {
   "cell_type": "markdown",
   "id": "e03be3b2",
   "metadata": {},
   "source": [
    "### Process face_rhythm_data"
   ]
  },
  {
   "cell_type": "markdown",
   "id": "f6548632",
   "metadata": {},
   "source": [
    "Load face_rhythm_data"
   ]
  },
  {
   "cell_type": "code",
   "execution_count": 26,
   "id": "d283469f",
   "metadata": {},
   "outputs": [],
   "source": [
    "raw_data = fr.h5_handling.simple_load(session_folder / \"analysis_files\" / \"PointTracker.h5\")"
   ]
  },
  {
   "cell_type": "markdown",
   "id": "82abc1b0",
   "metadata": {},
   "source": [
    "Calculate frame-wise displacement"
   ]
  },
  {
   "cell_type": "code",
   "execution_count": 27,
   "id": "4d62a844",
   "metadata": {},
   "outputs": [],
   "source": [
    "# Compute displacement: difference between consecutive frames\n",
    "delta = np.diff(raw_data[\"points_tracked\"][\"0\"], axis = 0) # Shape: (33484, 185, 2)\n",
    "\n",
    "# Compute Euclidean distance for each point\n",
    "displacement = np.linalg.norm(delta, axis=2)  # Shape: (33484, 185)\n",
    "\n",
    "# Compute mean displacement across all points\n",
    "mean_displacement = np.mean(displacement, axis=1)  # Shape: (33484,)\n",
    "\n",
    "# Pad mean displacement with one frame at start as it will be n-1\n",
    "mean_displacement = np.insert(mean_displacement, 0, 0)"
   ]
  },
  {
   "cell_type": "markdown",
   "id": "f36b636f",
   "metadata": {},
   "source": [
    "### Process bonsai data"
   ]
  },
  {
   "cell_type": "markdown",
   "id": "d9ba6b46",
   "metadata": {},
   "source": [
    "Import timestamp csv as a pandas dataframe"
   ]
  },
  {
   "cell_type": "code",
   "execution_count": 28,
   "id": "1766ae46",
   "metadata": {},
   "outputs": [
    {
     "data": {
      "text/html": [
       "<div>\n",
       "<style scoped>\n",
       "    .dataframe tbody tr th:only-of-type {\n",
       "        vertical-align: middle;\n",
       "    }\n",
       "\n",
       "    .dataframe tbody tr th {\n",
       "        vertical-align: top;\n",
       "    }\n",
       "\n",
       "    .dataframe thead th {\n",
       "        text-align: right;\n",
       "    }\n",
       "</style>\n",
       "<table border=\"1\" class=\"dataframe\">\n",
       "  <thead>\n",
       "    <tr style=\"text-align: right;\">\n",
       "      <th></th>\n",
       "      <th>Frame</th>\n",
       "      <th>Timestamp</th>\n",
       "    </tr>\n",
       "  </thead>\n",
       "  <tbody>\n",
       "    <tr>\n",
       "      <th>0</th>\n",
       "      <td>0</td>\n",
       "      <td>2025-03-19 14:50:12.546355200-07:00</td>\n",
       "    </tr>\n",
       "    <tr>\n",
       "      <th>1</th>\n",
       "      <td>1</td>\n",
       "      <td>2025-03-19 14:50:12.556044800-07:00</td>\n",
       "    </tr>\n",
       "    <tr>\n",
       "      <th>2</th>\n",
       "      <td>2</td>\n",
       "      <td>2025-03-19 14:50:12.566003200-07:00</td>\n",
       "    </tr>\n",
       "    <tr>\n",
       "      <th>3</th>\n",
       "      <td>3</td>\n",
       "      <td>2025-03-19 14:50:12.576089600-07:00</td>\n",
       "    </tr>\n",
       "    <tr>\n",
       "      <th>4</th>\n",
       "      <td>4</td>\n",
       "      <td>2025-03-19 14:50:12.585920-07:00</td>\n",
       "    </tr>\n",
       "  </tbody>\n",
       "</table>\n",
       "</div>"
      ],
      "text/plain": [
       "   Frame                           Timestamp\n",
       "0      0 2025-03-19 14:50:12.546355200-07:00\n",
       "1      1 2025-03-19 14:50:12.556044800-07:00\n",
       "2      2 2025-03-19 14:50:12.566003200-07:00\n",
       "3      3 2025-03-19 14:50:12.576089600-07:00\n",
       "4      4    2025-03-19 14:50:12.585920-07:00"
      ]
     },
     "execution_count": 28,
     "metadata": {},
     "output_type": "execute_result"
    }
   ],
   "source": [
    "video_timestamp_csv = next(file for file in session_folder.glob(\"*.csv\") if \"video\" in file.name)\n",
    "video_timestamp_df = pd.read_csv(video_timestamp_csv, parse_dates = [1])\n",
    "video_timestamp_df.head()"
   ]
  },
  {
   "cell_type": "markdown",
   "id": "2b448dbf",
   "metadata": {},
   "source": [
    "If video was trimmed at start adjust video_timestamp_df to drop the frames at start. This is not for frame rejection in the middle of the video, there is a separate section for that."
   ]
  },
  {
   "cell_type": "code",
   "execution_count": 29,
   "id": "256ca6ca",
   "metadata": {},
   "outputs": [
    {
     "name": "stdout",
     "output_type": "stream",
     "text": [
      "Video trimming detected, trimming first 1500 frame(s) from video_timestamp_df\n"
     ]
    }
   ],
   "source": [
    "if len(mean_displacement) != len(video_timestamp_df):\n",
    "    diff = len(video_timestamp_df) - len(mean_displacement)\n",
    "    \n",
    "    if diff > 0:\n",
    "        print(f\"Video trimming detected, trimming first {diff} frame(s) from video_timestamp_df\")\n",
    "        \n",
    "        # Trim rows\n",
    "        video_timestamp_df = video_timestamp_df.iloc[diff:].reset_index(drop=True)\n",
    "        \n",
    "        # Reset frame numbers to start from 0\n",
    "        video_timestamp_df[\"Frame\"] = np.arange(len(video_timestamp_df))\n",
    "        \n",
    "    else:\n",
    "        pass"
   ]
  },
  {
   "cell_type": "code",
   "execution_count": 30,
   "id": "1ee01c35",
   "metadata": {
    "scrolled": true
   },
   "outputs": [
    {
     "data": {
      "text/html": [
       "<div>\n",
       "<style scoped>\n",
       "    .dataframe tbody tr th:only-of-type {\n",
       "        vertical-align: middle;\n",
       "    }\n",
       "\n",
       "    .dataframe tbody tr th {\n",
       "        vertical-align: top;\n",
       "    }\n",
       "\n",
       "    .dataframe thead th {\n",
       "        text-align: right;\n",
       "    }\n",
       "</style>\n",
       "<table border=\"1\" class=\"dataframe\">\n",
       "  <thead>\n",
       "    <tr style=\"text-align: right;\">\n",
       "      <th></th>\n",
       "      <th>TTL</th>\n",
       "      <th>Timestamp</th>\n",
       "    </tr>\n",
       "  </thead>\n",
       "  <tbody>\n",
       "    <tr>\n",
       "      <th>0</th>\n",
       "      <td>True</td>\n",
       "      <td>2025-03-19 14:50:52.061568-07:00</td>\n",
       "    </tr>\n",
       "    <tr>\n",
       "      <th>1</th>\n",
       "      <td>False</td>\n",
       "      <td>2025-03-19 14:50:52.110694400-07:00</td>\n",
       "    </tr>\n",
       "    <tr>\n",
       "      <th>2</th>\n",
       "      <td>True</td>\n",
       "      <td>2025-03-19 14:51:22.067046400-07:00</td>\n",
       "    </tr>\n",
       "    <tr>\n",
       "      <th>3</th>\n",
       "      <td>False</td>\n",
       "      <td>2025-03-19 14:51:22.116236800-07:00</td>\n",
       "    </tr>\n",
       "    <tr>\n",
       "      <th>4</th>\n",
       "      <td>True</td>\n",
       "      <td>2025-03-19 14:51:45.079974400-07:00</td>\n",
       "    </tr>\n",
       "  </tbody>\n",
       "</table>\n",
       "</div>"
      ],
      "text/plain": [
       "     TTL                           Timestamp\n",
       "0   True    2025-03-19 14:50:52.061568-07:00\n",
       "1  False 2025-03-19 14:50:52.110694400-07:00\n",
       "2   True 2025-03-19 14:51:22.067046400-07:00\n",
       "3  False 2025-03-19 14:51:22.116236800-07:00\n",
       "4   True 2025-03-19 14:51:45.079974400-07:00"
      ]
     },
     "execution_count": 30,
     "metadata": {},
     "output_type": "execute_result"
    }
   ],
   "source": [
    "# Import TTL readout csv as a pandas dataframe\n",
    "TTL_readout_csv = next(file for file in session_folder.glob(\"*.csv\") if \"TTL_received\" in file.name)\n",
    "TTL_readout_df = pd.read_csv(TTL_readout_csv, header = None, names = [\"TTL\", \"Timestamp\"], parse_dates = [1])\n",
    "TTL_readout_df = TTL_readout_df.drop(index=0)\n",
    "TTL_readout_df = TTL_readout_df.reset_index(drop=True)\n",
    "TTL_readout_df.head()"
   ]
  },
  {
   "cell_type": "code",
   "execution_count": 31,
   "id": "895a52e8",
   "metadata": {},
   "outputs": [],
   "source": [
    "# Zero Timestamps to experiment start time\n",
    "experiment_start = video_timestamp_df.iloc[0, 1]\n",
    "\n",
    "video_timestamp_df[\"Time_since_start\"] = video_timestamp_df.iloc[:, 1] - experiment_start\n",
    "video_timestamp_df[\"Experiment_time_seconds\"] = video_timestamp_df[\"Time_since_start\"].dt.total_seconds()\n",
    "video_timestamp_df = video_timestamp_df.drop(columns=[\"Time_since_start\"])\n",
    "\n",
    "TTL_readout_df[\"Time_since_start\"] = TTL_readout_df.iloc[:, 1] - experiment_start\n",
    "TTL_readout_df[\"Experiment_time_seconds\"] = TTL_readout_df[\"Time_since_start\"].dt.total_seconds()\n",
    "TTL_readout_df = TTL_readout_df.drop(columns=[\"Time_since_start\"])"
   ]
  },
  {
   "cell_type": "code",
   "execution_count": 32,
   "id": "e9f36a2d",
   "metadata": {},
   "outputs": [
    {
     "data": {
      "text/html": [
       "<div>\n",
       "<style scoped>\n",
       "    .dataframe tbody tr th:only-of-type {\n",
       "        vertical-align: middle;\n",
       "    }\n",
       "\n",
       "    .dataframe tbody tr th {\n",
       "        vertical-align: top;\n",
       "    }\n",
       "\n",
       "    .dataframe thead th {\n",
       "        text-align: right;\n",
       "    }\n",
       "</style>\n",
       "<table border=\"1\" class=\"dataframe\">\n",
       "  <thead>\n",
       "    <tr style=\"text-align: right;\">\n",
       "      <th></th>\n",
       "      <th>Frame</th>\n",
       "      <th>Timestamp</th>\n",
       "      <th>Experiment_time_seconds</th>\n",
       "    </tr>\n",
       "  </thead>\n",
       "  <tbody>\n",
       "    <tr>\n",
       "      <th>0</th>\n",
       "      <td>0</td>\n",
       "      <td>2025-03-19 14:50:27.552115200-07:00</td>\n",
       "      <td>0.000000</td>\n",
       "    </tr>\n",
       "    <tr>\n",
       "      <th>1</th>\n",
       "      <td>1</td>\n",
       "      <td>2025-03-19 14:50:27.562163200-07:00</td>\n",
       "      <td>0.010048</td>\n",
       "    </tr>\n",
       "    <tr>\n",
       "      <th>2</th>\n",
       "      <td>2</td>\n",
       "      <td>2025-03-19 14:50:27.572428800-07:00</td>\n",
       "      <td>0.020314</td>\n",
       "    </tr>\n",
       "    <tr>\n",
       "      <th>3</th>\n",
       "      <td>3</td>\n",
       "      <td>2025-03-19 14:50:27.582387200-07:00</td>\n",
       "      <td>0.030272</td>\n",
       "    </tr>\n",
       "    <tr>\n",
       "      <th>4</th>\n",
       "      <td>4</td>\n",
       "      <td>2025-03-19 14:50:27.592358400-07:00</td>\n",
       "      <td>0.040243</td>\n",
       "    </tr>\n",
       "  </tbody>\n",
       "</table>\n",
       "</div>"
      ],
      "text/plain": [
       "   Frame                           Timestamp  Experiment_time_seconds\n",
       "0      0 2025-03-19 14:50:27.552115200-07:00                 0.000000\n",
       "1      1 2025-03-19 14:50:27.562163200-07:00                 0.010048\n",
       "2      2 2025-03-19 14:50:27.572428800-07:00                 0.020314\n",
       "3      3 2025-03-19 14:50:27.582387200-07:00                 0.030272\n",
       "4      4 2025-03-19 14:50:27.592358400-07:00                 0.040243"
      ]
     },
     "execution_count": 32,
     "metadata": {},
     "output_type": "execute_result"
    }
   ],
   "source": [
    "# Verify dataframe\n",
    "video_timestamp_df.head()"
   ]
  },
  {
   "cell_type": "code",
   "execution_count": 33,
   "id": "29147a78",
   "metadata": {},
   "outputs": [
    {
     "data": {
      "text/html": [
       "<div>\n",
       "<style scoped>\n",
       "    .dataframe tbody tr th:only-of-type {\n",
       "        vertical-align: middle;\n",
       "    }\n",
       "\n",
       "    .dataframe tbody tr th {\n",
       "        vertical-align: top;\n",
       "    }\n",
       "\n",
       "    .dataframe thead th {\n",
       "        text-align: right;\n",
       "    }\n",
       "</style>\n",
       "<table border=\"1\" class=\"dataframe\">\n",
       "  <thead>\n",
       "    <tr style=\"text-align: right;\">\n",
       "      <th></th>\n",
       "      <th>TTL</th>\n",
       "      <th>Timestamp</th>\n",
       "      <th>Experiment_time_seconds</th>\n",
       "    </tr>\n",
       "  </thead>\n",
       "  <tbody>\n",
       "    <tr>\n",
       "      <th>0</th>\n",
       "      <td>True</td>\n",
       "      <td>2025-03-19 14:50:52.061568-07:00</td>\n",
       "      <td>24.509453</td>\n",
       "    </tr>\n",
       "    <tr>\n",
       "      <th>1</th>\n",
       "      <td>False</td>\n",
       "      <td>2025-03-19 14:50:52.110694400-07:00</td>\n",
       "      <td>24.558579</td>\n",
       "    </tr>\n",
       "    <tr>\n",
       "      <th>2</th>\n",
       "      <td>True</td>\n",
       "      <td>2025-03-19 14:51:22.067046400-07:00</td>\n",
       "      <td>54.514931</td>\n",
       "    </tr>\n",
       "    <tr>\n",
       "      <th>3</th>\n",
       "      <td>False</td>\n",
       "      <td>2025-03-19 14:51:22.116236800-07:00</td>\n",
       "      <td>54.564122</td>\n",
       "    </tr>\n",
       "    <tr>\n",
       "      <th>4</th>\n",
       "      <td>True</td>\n",
       "      <td>2025-03-19 14:51:45.079974400-07:00</td>\n",
       "      <td>77.527859</td>\n",
       "    </tr>\n",
       "  </tbody>\n",
       "</table>\n",
       "</div>"
      ],
      "text/plain": [
       "     TTL                           Timestamp  Experiment_time_seconds\n",
       "0   True    2025-03-19 14:50:52.061568-07:00                24.509453\n",
       "1  False 2025-03-19 14:50:52.110694400-07:00                24.558579\n",
       "2   True 2025-03-19 14:51:22.067046400-07:00                54.514931\n",
       "3  False 2025-03-19 14:51:22.116236800-07:00                54.564122\n",
       "4   True 2025-03-19 14:51:45.079974400-07:00                77.527859"
      ]
     },
     "execution_count": 33,
     "metadata": {},
     "output_type": "execute_result"
    }
   ],
   "source": [
    "# Verify dataframe\n",
    "TTL_readout_df.head()"
   ]
  },
  {
   "cell_type": "code",
   "execution_count": 34,
   "id": "4890ce8d",
   "metadata": {},
   "outputs": [],
   "source": [
    "# Find video frame frame that comes after TTL is received\n",
    "\n",
    "# Extract TTL on times\n",
    "TTL_on_times = TTL_readout_df[TTL_readout_df[\"TTL\"] == True][\"Experiment_time_seconds\"].reset_index(drop=True)\n",
    "\n",
    "# Extract video timestamps and frame numbers\n",
    "frame_times = video_timestamp_df.iloc[:, 2]\n",
    "frame_numbers = video_timestamp_df.iloc[:, 0]\n",
    "\n",
    "# Use searchsorted to find matching frame indices\n",
    "indices = frame_times.searchsorted(TTL_on_times)\n",
    "\n",
    "# Get corresponding frame numbers\n",
    "matched_frames = frame_numbers.iloc[indices].reset_index(drop=True)\n",
    "matched_frame_times = frame_times.iloc[indices].reset_index(drop=True)\n",
    "\n",
    "# Create a result DataFrame\n",
    "airpuff_df = pd.DataFrame({\n",
    "    \"Matched_frame\": matched_frames,\n",
    "    \"TTL_on_time\": TTL_on_times,\n",
    "    \"Frame_time\": matched_frame_times\n",
    "})"
   ]
  },
  {
   "cell_type": "code",
   "execution_count": 35,
   "id": "7196d9fe",
   "metadata": {},
   "outputs": [],
   "source": [
    "# Define all airpuffs and the number of trials in a psi_trials.csv file saved in session folder\n",
    "# Can copy one from an existing folder if theres no change \n",
    "# Should match total number of trials\n",
    "\n",
    "psi_file = session_folder / \"psi_trials.csv\"\n",
    "psi_trials_df = pd.read_csv(psi_file)\n",
    "\n",
    "psi_values = [\n",
    "    row[\"PSI\"]\n",
    "    for _, row in psi_trials_df.iterrows()\n",
    "    for _ in range(int(row[\"Number_of_trials\"]))\n",
    "]\n",
    "\n",
    "if len(psi_values) != len(airpuff_df):\n",
    "    raise ValueError(\"Mismatch between number of PSI values and airpuff_df rows.\")\n",
    "else:\n",
    "    airpuff_df[\"PSI\"] = psi_values\n"
   ]
  },
  {
   "cell_type": "markdown",
   "id": "26c40cb7",
   "metadata": {},
   "source": [
    "### Calculate baseline movement and peak displacement"
   ]
  },
  {
   "cell_type": "markdown",
   "id": "8628b23a",
   "metadata": {},
   "source": [
    "Aniqa (2024) paper\n",
    "\n",
    "- At the beginning of each session, an image of a ruler was used to ensure identical viewing distances across sessions. \n",
    "- Trials in which the animal exhibited movement during the 10-frame baseline collection period before the stimulus were discarded during analysis (framerate was 120 fps for them so about less than 100 ms?)\n",
    "- Videos were analyzed for peak body displacement 500 ms following the air puff stimulus\n"
   ]
  },
  {
   "cell_type": "markdown",
   "id": "7962ac95",
   "metadata": {},
   "source": [
    "Shawn's notes 3/27/25\n",
    "\n",
    "- We don't have a ruler, but we can normalize to the short edge of the container.\n",
    "- I think we can use 10 frames and make it 100ms before stimulus. We probably need a displacement threshold for \"movement\""
   ]
  },
  {
   "cell_type": "code",
   "execution_count": 36,
   "id": "4f9c61eb",
   "metadata": {},
   "outputs": [],
   "source": [
    "# Parameters\n",
    "fps = 100\n",
    "baseline_period = int(0.1 * fps)     # 100 ms in frames\n",
    "post_stimuli_period = int(0.5 * fps) # 500 ms in frames\n",
    "\n",
    "# Empty columns to populate\n",
    "pre_displacements = []\n",
    "post_peaks = []\n",
    "\n",
    "for _, row in airpuff_df.iterrows():\n",
    "    center = int(row[\"Matched_frame\"])\n",
    "\n",
    "    # Pre-stimulus (baseline) window\n",
    "    pre_start = max(center - baseline_period, 0)\n",
    "    pre_vals = mean_displacement[pre_start:center]\n",
    "    pre_avg = np.mean(pre_vals)\n",
    "\n",
    "    # Post-stimulus window\n",
    "    post_end = min(center + post_stimuli_period, len(mean_displacement))\n",
    "    post_vals = mean_displacement[center:post_end]\n",
    "    post_peak = np.max(post_vals)\n",
    "\n",
    "    # Store results\n",
    "    pre_displacements.append(pre_avg)\n",
    "    post_peaks.append(post_peak)\n",
    "\n",
    "# Add to DataFrame\n",
    "airpuff_df[\"Pre_displacement_avg\"] = pre_displacements\n",
    "airpuff_df[\"Post_displacement_peak\"] = post_peaks"
   ]
  },
  {
   "cell_type": "markdown",
   "id": "8ff022ef",
   "metadata": {},
   "source": [
    "### Apply automatic rejection"
   ]
  },
  {
   "cell_type": "markdown",
   "id": "75c7c66a",
   "metadata": {},
   "source": [
    "Reject trials based on baseline movement"
   ]
  },
  {
   "cell_type": "code",
   "execution_count": 37,
   "id": "5765fad5",
   "metadata": {},
   "outputs": [],
   "source": [
    "# Parameters\n",
    "threshold = 1\n",
    "\n",
    "airpuff_df[\"automatic_rejection\"] = airpuff_df[\"Pre_displacement_avg\"] > threshold"
   ]
  },
  {
   "cell_type": "markdown",
   "id": "cf1befd8",
   "metadata": {},
   "source": [
    "Reject trial based on loss of mesh tracking"
   ]
  },
  {
   "cell_type": "code",
   "execution_count": 38,
   "id": "5d5a3bae",
   "metadata": {},
   "outputs": [
    {
     "name": "stdout",
     "output_type": "stream",
     "text": [
      "No frame_rejection.csv found — assuming all frames are valid.\n"
     ]
    }
   ],
   "source": [
    "# Default: set all to False\n",
    "airpuff_df[\"frame_rejection\"] = False\n",
    "\n",
    "if rejection_file.exists():\n",
    "    print(\"Found frame_rejection.csv — checking for overlapping frames.\")\n",
    "\n",
    "    # Step 2: Load the file\n",
    "    rejection_ranges = pd.read_csv(rejection_file)\n",
    "\n",
    "    # Step 3: Check each Matched_frame against all rejection ranges\n",
    "    def is_rejected(frame):\n",
    "        return any((frame >= start) and (frame <= end)\n",
    "                   for start, end in zip(rejection_ranges[\"Frame_start\"], rejection_ranges[\"Frame_end\"]))\n",
    "\n",
    "    airpuff_df[\"frame_rejection\"] = airpuff_df[\"Matched_frame\"].apply(is_rejected)\n",
    "\n",
    "else:\n",
    "    print(\"No frame_rejection.csv found — assuming all frames are valid.\")"
   ]
  },
  {
   "cell_type": "code",
   "execution_count": 39,
   "id": "3cd07e4f",
   "metadata": {},
   "outputs": [
    {
     "data": {
      "text/html": [
       "<div>\n",
       "<style scoped>\n",
       "    .dataframe tbody tr th:only-of-type {\n",
       "        vertical-align: middle;\n",
       "    }\n",
       "\n",
       "    .dataframe tbody tr th {\n",
       "        vertical-align: top;\n",
       "    }\n",
       "\n",
       "    .dataframe thead th {\n",
       "        text-align: right;\n",
       "    }\n",
       "</style>\n",
       "<table border=\"1\" class=\"dataframe\">\n",
       "  <thead>\n",
       "    <tr style=\"text-align: right;\">\n",
       "      <th></th>\n",
       "      <th>Matched_frame</th>\n",
       "      <th>TTL_on_time</th>\n",
       "      <th>Frame_time</th>\n",
       "      <th>PSI</th>\n",
       "      <th>Pre_displacement_avg</th>\n",
       "      <th>Post_displacement_peak</th>\n",
       "      <th>automatic_rejection</th>\n",
       "      <th>frame_rejection</th>\n",
       "    </tr>\n",
       "  </thead>\n",
       "  <tbody>\n",
       "    <tr>\n",
       "      <th>0</th>\n",
       "      <td>2450</td>\n",
       "      <td>24.509453</td>\n",
       "      <td>24.510144</td>\n",
       "      <td>0.10</td>\n",
       "      <td>0.158934</td>\n",
       "      <td>9.336215</td>\n",
       "      <td>False</td>\n",
       "      <td>False</td>\n",
       "    </tr>\n",
       "    <tr>\n",
       "      <th>1</th>\n",
       "      <td>5450</td>\n",
       "      <td>54.514931</td>\n",
       "      <td>54.522496</td>\n",
       "      <td>0.10</td>\n",
       "      <td>0.148914</td>\n",
       "      <td>0.566189</td>\n",
       "      <td>False</td>\n",
       "      <td>False</td>\n",
       "    </tr>\n",
       "    <tr>\n",
       "      <th>2</th>\n",
       "      <td>7750</td>\n",
       "      <td>77.527859</td>\n",
       "      <td>77.532019</td>\n",
       "      <td>0.10</td>\n",
       "      <td>0.397230</td>\n",
       "      <td>0.695984</td>\n",
       "      <td>False</td>\n",
       "      <td>False</td>\n",
       "    </tr>\n",
       "    <tr>\n",
       "      <th>3</th>\n",
       "      <td>10551</td>\n",
       "      <td>105.550605</td>\n",
       "      <td>105.553677</td>\n",
       "      <td>0.25</td>\n",
       "      <td>0.155376</td>\n",
       "      <td>7.195879</td>\n",
       "      <td>False</td>\n",
       "      <td>False</td>\n",
       "    </tr>\n",
       "    <tr>\n",
       "      <th>4</th>\n",
       "      <td>13150</td>\n",
       "      <td>131.554010</td>\n",
       "      <td>131.554470</td>\n",
       "      <td>0.25</td>\n",
       "      <td>0.613479</td>\n",
       "      <td>4.874582</td>\n",
       "      <td>False</td>\n",
       "      <td>False</td>\n",
       "    </tr>\n",
       "    <tr>\n",
       "      <th>5</th>\n",
       "      <td>16150</td>\n",
       "      <td>161.559437</td>\n",
       "      <td>161.566707</td>\n",
       "      <td>0.25</td>\n",
       "      <td>0.255308</td>\n",
       "      <td>1.508189</td>\n",
       "      <td>False</td>\n",
       "      <td>False</td>\n",
       "    </tr>\n",
       "    <tr>\n",
       "      <th>6</th>\n",
       "      <td>18650</td>\n",
       "      <td>186.575654</td>\n",
       "      <td>186.576947</td>\n",
       "      <td>0.50</td>\n",
       "      <td>0.220751</td>\n",
       "      <td>2.661993</td>\n",
       "      <td>False</td>\n",
       "      <td>False</td>\n",
       "    </tr>\n",
       "    <tr>\n",
       "      <th>7</th>\n",
       "      <td>20650</td>\n",
       "      <td>206.577920</td>\n",
       "      <td>206.585242</td>\n",
       "      <td>0.50</td>\n",
       "      <td>0.143383</td>\n",
       "      <td>12.475607</td>\n",
       "      <td>False</td>\n",
       "      <td>False</td>\n",
       "    </tr>\n",
       "    <tr>\n",
       "      <th>8</th>\n",
       "      <td>23449</td>\n",
       "      <td>234.584102</td>\n",
       "      <td>234.586982</td>\n",
       "      <td>0.50</td>\n",
       "      <td>0.228273</td>\n",
       "      <td>7.427796</td>\n",
       "      <td>False</td>\n",
       "      <td>False</td>\n",
       "    </tr>\n",
       "    <tr>\n",
       "      <th>9</th>\n",
       "      <td>25449</td>\n",
       "      <td>254.594406</td>\n",
       "      <td>254.595110</td>\n",
       "      <td>0.75</td>\n",
       "      <td>0.103420</td>\n",
       "      <td>10.511367</td>\n",
       "      <td>False</td>\n",
       "      <td>False</td>\n",
       "    </tr>\n",
       "    <tr>\n",
       "      <th>10</th>\n",
       "      <td>28049</td>\n",
       "      <td>280.601779</td>\n",
       "      <td>280.605914</td>\n",
       "      <td>0.75</td>\n",
       "      <td>0.186156</td>\n",
       "      <td>0.573449</td>\n",
       "      <td>False</td>\n",
       "      <td>False</td>\n",
       "    </tr>\n",
       "    <tr>\n",
       "      <th>11</th>\n",
       "      <td>30150</td>\n",
       "      <td>301.620032</td>\n",
       "      <td>301.624474</td>\n",
       "      <td>0.75</td>\n",
       "      <td>0.199689</td>\n",
       "      <td>0.770955</td>\n",
       "      <td>False</td>\n",
       "      <td>False</td>\n",
       "    </tr>\n",
       "    <tr>\n",
       "      <th>12</th>\n",
       "      <td>33050</td>\n",
       "      <td>330.634048</td>\n",
       "      <td>330.636403</td>\n",
       "      <td>1.00</td>\n",
       "      <td>0.087889</td>\n",
       "      <td>3.991219</td>\n",
       "      <td>False</td>\n",
       "      <td>False</td>\n",
       "    </tr>\n",
       "    <tr>\n",
       "      <th>13</th>\n",
       "      <td>35550</td>\n",
       "      <td>355.642138</td>\n",
       "      <td>355.646989</td>\n",
       "      <td>1.00</td>\n",
       "      <td>0.400441</td>\n",
       "      <td>0.678659</td>\n",
       "      <td>False</td>\n",
       "      <td>False</td>\n",
       "    </tr>\n",
       "    <tr>\n",
       "      <th>14</th>\n",
       "      <td>38449</td>\n",
       "      <td>384.647770</td>\n",
       "      <td>384.648742</td>\n",
       "      <td>1.00</td>\n",
       "      <td>0.194201</td>\n",
       "      <td>10.031690</td>\n",
       "      <td>False</td>\n",
       "      <td>False</td>\n",
       "    </tr>\n",
       "    <tr>\n",
       "      <th>15</th>\n",
       "      <td>41149</td>\n",
       "      <td>411.658752</td>\n",
       "      <td>411.659891</td>\n",
       "      <td>1.00</td>\n",
       "      <td>0.257672</td>\n",
       "      <td>1.009929</td>\n",
       "      <td>False</td>\n",
       "      <td>False</td>\n",
       "    </tr>\n",
       "    <tr>\n",
       "      <th>16</th>\n",
       "      <td>43449</td>\n",
       "      <td>434.667750</td>\n",
       "      <td>434.669338</td>\n",
       "      <td>1.00</td>\n",
       "      <td>0.296417</td>\n",
       "      <td>1.931670</td>\n",
       "      <td>False</td>\n",
       "      <td>False</td>\n",
       "    </tr>\n",
       "    <tr>\n",
       "      <th>17</th>\n",
       "      <td>45449</td>\n",
       "      <td>454.669978</td>\n",
       "      <td>454.677734</td>\n",
       "      <td>1.00</td>\n",
       "      <td>0.264279</td>\n",
       "      <td>8.419875</td>\n",
       "      <td>False</td>\n",
       "      <td>False</td>\n",
       "    </tr>\n",
       "  </tbody>\n",
       "</table>\n",
       "</div>"
      ],
      "text/plain": [
       "    Matched_frame  TTL_on_time  Frame_time   PSI  Pre_displacement_avg  \\\n",
       "0            2450    24.509453   24.510144  0.10              0.158934   \n",
       "1            5450    54.514931   54.522496  0.10              0.148914   \n",
       "2            7750    77.527859   77.532019  0.10              0.397230   \n",
       "3           10551   105.550605  105.553677  0.25              0.155376   \n",
       "4           13150   131.554010  131.554470  0.25              0.613479   \n",
       "5           16150   161.559437  161.566707  0.25              0.255308   \n",
       "6           18650   186.575654  186.576947  0.50              0.220751   \n",
       "7           20650   206.577920  206.585242  0.50              0.143383   \n",
       "8           23449   234.584102  234.586982  0.50              0.228273   \n",
       "9           25449   254.594406  254.595110  0.75              0.103420   \n",
       "10          28049   280.601779  280.605914  0.75              0.186156   \n",
       "11          30150   301.620032  301.624474  0.75              0.199689   \n",
       "12          33050   330.634048  330.636403  1.00              0.087889   \n",
       "13          35550   355.642138  355.646989  1.00              0.400441   \n",
       "14          38449   384.647770  384.648742  1.00              0.194201   \n",
       "15          41149   411.658752  411.659891  1.00              0.257672   \n",
       "16          43449   434.667750  434.669338  1.00              0.296417   \n",
       "17          45449   454.669978  454.677734  1.00              0.264279   \n",
       "\n",
       "    Post_displacement_peak  automatic_rejection  frame_rejection  \n",
       "0                 9.336215                False            False  \n",
       "1                 0.566189                False            False  \n",
       "2                 0.695984                False            False  \n",
       "3                 7.195879                False            False  \n",
       "4                 4.874582                False            False  \n",
       "5                 1.508189                False            False  \n",
       "6                 2.661993                False            False  \n",
       "7                12.475607                False            False  \n",
       "8                 7.427796                False            False  \n",
       "9                10.511367                False            False  \n",
       "10                0.573449                False            False  \n",
       "11                0.770955                False            False  \n",
       "12                3.991219                False            False  \n",
       "13                0.678659                False            False  \n",
       "14               10.031690                False            False  \n",
       "15                1.009929                False            False  \n",
       "16                1.931670                False            False  \n",
       "17                8.419875                False            False  "
      ]
     },
     "execution_count": 39,
     "metadata": {},
     "output_type": "execute_result"
    }
   ],
   "source": [
    "# inspect airpuff_df to see if values look right\n",
    "airpuff_df"
   ]
  },
  {
   "cell_type": "markdown",
   "id": "9f986095",
   "metadata": {},
   "source": [
    "# Make filtered results dataframe"
   ]
  },
  {
   "cell_type": "code",
   "execution_count": 40,
   "id": "32f0afb2",
   "metadata": {},
   "outputs": [],
   "source": [
    "# Filter out trials with either rejection type\n",
    "filtered_df = airpuff_df[\n",
    "    (~airpuff_df[\"automatic_rejection\"]) & (~airpuff_df[\"frame_rejection\"])\n",
    "].copy()\n",
    "\n",
    "# Make PSI column categorical\n",
    "filtered_df[\"PSI\"] = filtered_df[\"PSI\"].astype(str)"
   ]
  },
  {
   "cell_type": "markdown",
   "id": "02939bfd",
   "metadata": {},
   "source": [
    "# Save Processed Data"
   ]
  },
  {
   "cell_type": "code",
   "execution_count": 41,
   "id": "d8841296",
   "metadata": {},
   "outputs": [],
   "source": [
    "# Define folder paths\n",
    "output_folder = session_folder / \"bonsai_aligned\"\n",
    "results_folder = session_folder / \"results\"\n",
    "\n",
    "# Create the folder if it doesn't exist\n",
    "output_folder.mkdir(exist_ok=True)\n",
    "results_folder.mkdir(exist_ok=True)\n",
    "\n",
    "# Save dataframes\n",
    "video_timestamp_df.to_csv(output_folder / \"video_aligned.csv\", index = False)\n",
    "TTL_readout_df.to_csv(output_folder / \"TTL_aligned.csv\", index = False)\n",
    "airpuff_df.to_csv(results_folder / \"all_airpuff_aligned.csv\", index = False)\n",
    "filtered_df.to_csv(results_folder / \"filtered_results.csv\", index=False)\n",
    "\n",
    "# Save displacement\n",
    "np.save(output_folder / \"mean_displacement.npy\", mean_displacement)\n"
   ]
  },
  {
   "cell_type": "markdown",
   "id": "9d8d2be0",
   "metadata": {},
   "source": [
    "# Load Processed Data"
   ]
  },
  {
   "cell_type": "code",
   "execution_count": 42,
   "id": "605fae2f",
   "metadata": {},
   "outputs": [],
   "source": [
    "mean_displacement = np.load(output_folder / \"mean_displacement.npy\")\n",
    "airpuff_df = pd.read_csv(results_folder / \"all_airpuff_aligned.csv\")\n",
    "video_timestamp_df = pd.read_csv(output_folder / \"video_aligned.csv\", parse_dates=[\"Timestamp\"])\n",
    "TTL_readout_df = pd.read_csv(output_folder / \"TTL_aligned.csv\", parse_dates=[\"Timestamp\"])\n",
    "\n",
    "filtered_df = pd.read_csv(results_folder / \"filtered_results.csv\", )\n",
    "filtered_df[\"PSI\"] = filtered_df[\"PSI\"].astype(str)\n",
    "\n",
    "if rejection_file.exists():\n",
    "    rejection_ranges = pd.read_csv(rejection_file)"
   ]
  },
  {
   "cell_type": "markdown",
   "id": "6f1fbee7",
   "metadata": {},
   "source": [
    "# Plot frame-wise displacement over time with airpuffs overlaid"
   ]
  },
  {
   "cell_type": "code",
   "execution_count": 43,
   "id": "1d3cd487",
   "metadata": {},
   "outputs": [
    {
     "data": {
      "image/png": "[encoded data removed]",
      "text/plain": [
       "<Figure size 1000x250 with 1 Axes>"
      ]
     },
     "metadata": {},
     "output_type": "display_data"
    }
   ],
   "source": [
    "# Create time axis\n",
    "time_axis = np.arange(len(mean_displacement)) / fps  # seconds\n",
    "\n",
    "# Set up base figure\n",
    "plt.figure(figsize=(10, 2.5))\n",
    "sns.lineplot(x=time_axis, y=mean_displacement)\n",
    "\n",
    "# Pick a color palette based on unique PSI levels\n",
    "unique_psi = sorted(airpuff_df[\"PSI\"].unique())\n",
    "palette = sns.color_palette(\"husl\", len(unique_psi))\n",
    "\n",
    "# Map each PSI value to a color\n",
    "psi_to_color = {psi: palette[i] for i, psi in enumerate(unique_psi)}\n",
    "\n",
    "# Step 3: Overlay vertical lines for airpuffs, colored by PSI\n",
    "for _, row in airpuff_df.iterrows():\n",
    "    psi = row[\"PSI\"]\n",
    "    color = psi_to_color[psi]\n",
    "    time_of_event = row[\"Frame_time\"]\n",
    "    plt.axvline(x=row[\"Frame_time\"], color=color, linestyle=\"--\", alpha=0.7)\n",
    "\n",
    "# Create PSI legend\n",
    "from matplotlib.patches import Patch\n",
    "\n",
    "psi_patches = [Patch(facecolor=color, edgecolor=color, label=f\"{psi}\") for psi, color in psi_to_color.items()]\n",
    "all_handles = psi_patches.copy()\n",
    "all_labels = [f\"{psi}\" for psi in psi_to_color]\n",
    "\n",
    "\n",
    "# Check and shade rejected frame regions if rejection file exists, also adds legend for tracking lost\n",
    "if rejection_file.exists():\n",
    "    \n",
    "    for _, row in rejection_ranges.iterrows():\n",
    "        start_time = row[\"Frame_start\"] / fps\n",
    "        end_time = row[\"Frame_end\"] / fps\n",
    "        plt.axvspan(start_time, end_time, color=\"grey\", alpha=0.3, label=\"Tracking lost\")\n",
    "\n",
    "    # Add \"Tracking lost\" to legend once\n",
    "    all_handles.append(Patch(facecolor=\"grey\", alpha=0.3, label=\"Tracking lost\"))\n",
    "    all_labels.append(\"Tracking lost\")\n",
    "                      \n",
    "\n",
    "# Titles, labels and axis limits\n",
    "plt.legend(handles=all_handles, labels=all_labels, title=\"Airpuff PSI\", bbox_to_anchor=(1.01, 1), loc=\"upper left\", borderaxespad=0)\n",
    "plt.title(\"Framewise displacement over time\")\n",
    "plt.xlabel(\"Time (seconds)\")\n",
    "plt.ylabel(\"Displacement magnitude\\n(pixels)\")\n",
    "plt.ylim(0, 50)\n",
    "\n",
    "plt.tight_layout()\n",
    "plt.subplots_adjust(right=0.8)\n",
    "plt.margins(x=0.01)\n",
    "\n",
    "\n",
    "# Save image\n",
    "plt.savefig(session_folder / \"visualizations\" / \"raw_displacement_over_time.png\", dpi=300)"
   ]
  },
  {
   "cell_type": "markdown",
   "id": "2c765406",
   "metadata": {},
   "source": [
    "Generates graphs for each airpuff"
   ]
  },
  {
   "cell_type": "code",
   "execution_count": 45,
   "id": "c5a2aeb0",
   "metadata": {},
   "outputs": [
    {
     "data": {
      "image/png": "[encoded data removed]",
      "text/plain": [
       "<Figure size 1200x1200 with 18 Axes>"
      ]
     },
     "metadata": {},
     "output_type": "display_data"
    }
   ],
   "source": [
    "# Timeframe\n",
    "pre_frames = 50\n",
    "post_frames = 300\n",
    "\n",
    "# Layout settings\n",
    "n_trials = len(airpuff_df)\n",
    "n_cols = 3  # number of plots per row\n",
    "n_rows = math.ceil(n_trials / n_cols)\n",
    "\n",
    "# Create the figure and axes\n",
    "fig, axes = plt.subplots(n_rows, n_cols, figsize=(n_cols * 4, n_rows * 2), sharey=True)\n",
    "axes = axes.flatten()  # make it easy to index\n",
    "\n",
    "for i, row in airpuff_df.iterrows():\n",
    "    ax = axes[i]\n",
    "    center = int(row[\"Matched_frame\"])\n",
    "    psi = row[\"PSI\"]\n",
    "\n",
    "    start = max(center - pre_frames, 0)\n",
    "    end = min(center + post_frames, len(mean_displacement))\n",
    "\n",
    "    segment = mean_displacement[start:end]\n",
    "    x = np.arange(-pre_frames, len(segment) - pre_frames) / fps\n",
    "\n",
    "    sns.lineplot(x=x, y=segment, ax=ax, color=psi_to_color[psi])\n",
    "    ax.axvline(0, color='black', linestyle='--', alpha=0.5)\n",
    "    ax.set_title(f\"Trial {i+1} - {psi} PSI\", fontsize=9)\n",
    "    ax.set_ylim(0, 50)\n",
    "    ax.set_xlabel(\"Time (seconds)\")\n",
    "    ax.set_ylabel(\"Displacement\\n(pixels)\")\n",
    "    \n",
    "    # ✖ mark for trials rejected due to baseline movement\n",
    "    if row[\"automatic_rejection\"] and not row.get(\"frame_rejection\", False):\n",
    "        ax.text(\n",
    "            0.95, 0.9, \"✖\",\n",
    "            transform=ax.transAxes,\n",
    "            fontsize=20,\n",
    "            color=\"red\",\n",
    "            ha=\"right\",\n",
    "            va=\"top\"\n",
    "        )\n",
    "    \n",
    "    # Big red ✖ for frame tracking loss\n",
    "    if \"frame_rejection\" in airpuff_df.columns and row[\"frame_rejection\"]:\n",
    "        ax.text(\n",
    "            0.5, 0.5, \"✖\",\n",
    "            transform=ax.transAxes,\n",
    "            fontsize=100,\n",
    "            color=\"red\",\n",
    "            ha=\"center\",\n",
    "            va=\"center\",\n",
    "            alpha=0.2\n",
    "        )\n",
    "    \n",
    "# Remove unused axes if n_trials doesn't fill the grid\n",
    "for j in range(i+1, len(axes)):\n",
    "    fig.delaxes(axes[j])\n",
    "\n",
    "fig.suptitle(\"Stimulus aligned displacement across trials\", fontsize=14)\n",
    "plt.tight_layout()\n",
    "\n",
    "# Save image\n",
    "plt.savefig(session_folder / \"visualizations\" / \"individual_airpuff.png\", dpi=300)"
   ]
  },
  {
   "cell_type": "markdown",
   "id": "03fc6fa8",
   "metadata": {},
   "source": [
    "Plot summary data"
   ]
  },
  {
   "cell_type": "code",
   "execution_count": 46,
   "id": "b1b85169",
   "metadata": {},
   "outputs": [
    {
     "data": {
      "image/png": "[encoded data removed]",
      "text/plain": [
       "<Figure size 600x400 with 1 Axes>"
      ]
     },
     "metadata": {},
     "output_type": "display_data"
    }
   ],
   "source": [
    "plt.figure(figsize=(6, 4))\n",
    "sns.pointplot(\n",
    "    data=filtered_df,\n",
    "    x=\"PSI\",\n",
    "    y=\"Post_displacement_peak\",\n",
    "    errorbar=\"se\",\n",
    "    color=\"black\",\n",
    "    markers=\"o\",\n",
    "    linestyles=\"-\"\n",
    ")\n",
    "\n",
    "plt.title(\"Average displacement to airpuffs\")\n",
    "plt.xlabel(\"Stimulus intensity (PSI)\")\n",
    "plt.ylabel(\"Displacement magnitude (pixels)\")\n",
    "plt.ylim(0, 50)\n",
    "plt.tight_layout()\n",
    "\n",
    "# Save plot\n",
    "plt.savefig(session_folder / \"visualizations\" / \"average_airpuffs.png\", dpi=300)"
   ]
  },
  {
   "cell_type": "markdown",
   "id": "1a9db094",
   "metadata": {},
   "source": [
    "# Supplementary:TTL characterisation"
   ]
  },
  {
   "cell_type": "code",
   "execution_count": 23,
   "id": "8e815e60",
   "metadata": {},
   "outputs": [
    {
     "data": {
      "text/html": [
       "<div>\n",
       "<style scoped>\n",
       "    .dataframe tbody tr th:only-of-type {\n",
       "        vertical-align: middle;\n",
       "    }\n",
       "\n",
       "    .dataframe tbody tr th {\n",
       "        vertical-align: top;\n",
       "    }\n",
       "\n",
       "    .dataframe thead th {\n",
       "        text-align: right;\n",
       "    }\n",
       "</style>\n",
       "<table border=\"1\" class=\"dataframe\">\n",
       "  <thead>\n",
       "    <tr style=\"text-align: right;\">\n",
       "      <th></th>\n",
       "      <th>TTL</th>\n",
       "      <th>Timestamp</th>\n",
       "    </tr>\n",
       "  </thead>\n",
       "  <tbody>\n",
       "    <tr>\n",
       "      <th>0</th>\n",
       "      <td>True</td>\n",
       "      <td>2025-03-18 15:32:05.887667200-07:00</td>\n",
       "    </tr>\n",
       "    <tr>\n",
       "      <th>1</th>\n",
       "      <td>False</td>\n",
       "      <td>2025-03-18 15:32:05.950924800-07:00</td>\n",
       "    </tr>\n",
       "    <tr>\n",
       "      <th>2</th>\n",
       "      <td>True</td>\n",
       "      <td>2025-03-18 15:32:34.904243200-07:00</td>\n",
       "    </tr>\n",
       "    <tr>\n",
       "      <th>3</th>\n",
       "      <td>False</td>\n",
       "      <td>2025-03-18 15:32:34.966822400-07:00</td>\n",
       "    </tr>\n",
       "    <tr>\n",
       "      <th>4</th>\n",
       "      <td>True</td>\n",
       "      <td>2025-03-18 15:33:00.914316800-07:00</td>\n",
       "    </tr>\n",
       "  </tbody>\n",
       "</table>\n",
       "</div>"
      ],
      "text/plain": [
       "     TTL                           Timestamp\n",
       "0   True 2025-03-18 15:32:05.887667200-07:00\n",
       "1  False 2025-03-18 15:32:05.950924800-07:00\n",
       "2   True 2025-03-18 15:32:34.904243200-07:00\n",
       "3  False 2025-03-18 15:32:34.966822400-07:00\n",
       "4   True 2025-03-18 15:33:00.914316800-07:00"
      ]
     },
     "execution_count": 23,
     "metadata": {},
     "output_type": "execute_result"
    }
   ],
   "source": [
    "# Shawn's notes 3/26/25\n",
    "# I wrote this section to characterize both the duration and latency for the TTL.\n",
    "# Dont need to run this section again unless you suspect something is obviously wrong\n",
    "TTL_sent_csv = next(file for file in Path(session_folder).glob(\"*.csv\") if \"TTL_sent\" in file.name)\n",
    "TTL_sent_df = pd.read_csv(TTL_sent_csv, header = None, names = [\"TTL\", \"Timestamp\"], parse_dates = [1])\n",
    "TTL_sent_df.head()\n"
   ]
  },
  {
   "cell_type": "code",
   "execution_count": 24,
   "id": "352ee761",
   "metadata": {},
   "outputs": [
    {
     "name": "stdout",
     "output_type": "stream",
     "text": [
      "TTL                               bool\n",
      "Timestamp    datetime64[ns, UTC-07:00]\n",
      "dtype: object\n",
      "TTL                               bool\n",
      "Timestamp    datetime64[ns, UTC-07:00]\n",
      "dtype: object\n"
     ]
    }
   ],
   "source": [
    "print(TTL_readout_df.dtypes)\n",
    "print(TTL_sent_df.dtypes)"
   ]
  },
  {
   "cell_type": "code",
   "execution_count": 32,
   "id": "d6dddebf",
   "metadata": {},
   "outputs": [
    {
     "name": "stdout",
     "output_type": "stream",
     "text": [
      "0     48.9344\n",
      "1     49.2928\n",
      "2     49.2288\n",
      "3     49.0496\n",
      "4     53.2352\n",
      "5     48.9984\n",
      "6     48.9600\n",
      "7     49.0880\n",
      "8     49.0240\n",
      "9     53.1328\n",
      "10    53.2352\n",
      "11    49.1776\n",
      "12    53.0816\n",
      "13    49.2032\n",
      "14    49.1904\n",
      "15    49.1648\n",
      "16    53.3376\n",
      "17    49.3056\n",
      "Name: Timestamp, dtype: float64\n"
     ]
    }
   ],
   "source": [
    "# Calculate TTL duration and check for any outlier values\n",
    "TTL_on_times = TTL_readout_df[TTL_readout_df[\"TTL\"] == True][\"Timestamp\"].reset_index(drop=True)\n",
    "TTL_off_times = TTL_readout_df[TTL_readout_df[\"TTL\"] == False][\"Timestamp\"].reset_index(drop=True)\n",
    "durations = TTL_off_times - TTL_on_times\n",
    "durations_in_milliseconds = durations.dt.total_seconds()*1000\n",
    "\n",
    "print(durations_in_milliseconds)"
   ]
  },
  {
   "cell_type": "code",
   "execution_count": 34,
   "id": "9ed1c394",
   "metadata": {},
   "outputs": [
    {
     "name": "stdout",
     "output_type": "stream",
     "text": [
      "0     5.1456\n",
      "1     2.3680\n",
      "2     3.8016\n",
      "3     2.5472\n",
      "4     1.3824\n",
      "5     4.2240\n",
      "6     2.6752\n",
      "7     4.6720\n",
      "8     3.2640\n",
      "9     1.7024\n",
      "10    1.3696\n",
      "11    2.8160\n",
      "12    1.7792\n",
      "13    4.0064\n",
      "14    4.3008\n",
      "15    4.6336\n",
      "16    1.4720\n",
      "17    2.7136\n",
      "Name: Timestamp, dtype: float64\n"
     ]
    }
   ],
   "source": [
    "# Calculate TTL latency\n",
    "TTL_sent_times = TTL_sent_df[TTL_sent_df[\"TTL\"] == True][\"Timestamp\"].reset_index(drop=True)\n",
    "TTL_read_times = TTL_readout_df[TTL_readout_df[\"TTL\"] == True][\"Timestamp\"].reset_index(drop=True)\n",
    "latencies = TTL_read_times - TTL_sent_times\n",
    "latencies_in_milliseconds = latencies.dt.total_seconds()*1000\n",
    "\n",
    "print(latencies_in_milliseconds)\n"
   ]
  },
  {
   "cell_type": "markdown",
   "id": "42605562",
   "metadata": {},
   "source": [
    "# Supplementary: face_rhythm data inspection "
   ]
  },
  {
   "cell_type": "code",
   "execution_count": null,
   "id": "8cdee5ab",
   "metadata": {},
   "outputs": [],
   "source": [
    "# Shawn's notes 2/24/25\n",
    "# I wrote this section to inspect the point tracking data produced by face-rhythm and write some notes.\n",
    "# Doesnt need to be run (unless you run into some errors at some point and need to figure out what is wrong)\n",
    "# key 1 - mask is a numpy.ndarray with a boolean value for every pixel in the (vertical video) x (horizontal video) frame. ROI\n",
    "# key 2 - mesh_d0 is a numpy.ndarray that is the (number of points) x (x and y coords). unclear what it is\n",
    "# key 3 - neighbors is a numpy.ndarray that is the (number of points) x (list of 40 neighbours), probably the index of the closest neighbours\n",
    "# key 4 - point_positions is the (number of points) x (x and y coords). seem to be the initial mesh point position\n",
    "# key 5 - points tracked is the motherload. its a (frame)x(number of points)x (x and y coords). "
   ]
  },
  {
   "cell_type": "code",
   "execution_count": null,
   "id": "44ea0f03",
   "metadata": {},
   "outputs": [],
   "source": [
    "raw_data = fr.h5_handling.simple_load(\"analysis_files\\\\PointTracker.h5\")"
   ]
  },
  {
   "cell_type": "code",
   "execution_count": 18,
   "id": "a839af9a",
   "metadata": {},
   "outputs": [
    {
     "name": "stdout",
     "output_type": "stream",
     "text": [
      "mask <class 'numpy.ndarray'>\n",
      "mesh_d0 <class 'numpy.ndarray'>\n",
      "neighbors <class 'numpy.ndarray'>\n",
      "point_positions <class 'numpy.ndarray'>\n",
      "points_tracked <class 'dict'>\n",
      "violations <class 'dict'>\n"
     ]
    }
   ],
   "source": [
    "for key in raw_data.keys():\n",
    "    print(key, type(raw_data[key]))"
   ]
  },
  {
   "cell_type": "code",
   "execution_count": 33,
   "id": "14b6946e",
   "metadata": {},
   "outputs": [
    {
     "name": "stdout",
     "output_type": "stream",
     "text": [
      "(750, 1440)\n"
     ]
    },
    {
     "data": {
      "text/plain": [
       "<Axes: >"
      ]
     },
     "execution_count": 33,
     "metadata": {},
     "output_type": "execute_result"
    },
    {
     "data": {
      "image/png": "[encoded data removed]",
      "text/plain": [
       "<Figure size 400x200 with 2 Axes>"
      ]
     },
     "metadata": {},
     "output_type": "display_data"
    }
   ],
   "source": [
    "# mask visualization section\n",
    "print(raw_data[\"mask\"].shape)\n",
    "plt.figure(figsize=(4, 2))\n",
    "sns.heatmap(raw_data[\"mask\"])"
   ]
  },
  {
   "cell_type": "code",
   "execution_count": 47,
   "id": "641b69e5",
   "metadata": {},
   "outputs": [
    {
     "name": "stdout",
     "output_type": "stream",
     "text": [
      "(185, 2)\n"
     ]
    },
    {
     "data": {
      "text/plain": [
       "<Axes: >"
      ]
     },
     "execution_count": 47,
     "metadata": {},
     "output_type": "execute_result"
    },
    {
     "data": {
      "image/png": "[encoded data removed]",
      "text/plain": [
       "<Figure size 400x200 with 1 Axes>"
      ]
     },
     "metadata": {},
     "output_type": "display_data"
    }
   ],
   "source": [
    "# mesh_d0 visualization section\n",
    "print(raw_data[\"mesh_d0\"].shape)\n",
    "plt.figure(figsize=(4, 2))\n",
    "plt.xlim(0, 50)\n",
    "plt.ylim(0, 50)\n",
    "sns.scatterplot(x = raw_data[\"mesh_d0\"][:,0], y = raw_data[\"mesh_d0\"][:,1], )"
   ]
  },
  {
   "cell_type": "code",
   "execution_count": 50,
   "id": "8c162b18",
   "metadata": {},
   "outputs": [
    {
     "name": "stdout",
     "output_type": "stream",
     "text": [
      "(185, 40)\n",
      "[[  0   1   9 ...  58  24  57]\n",
      " [  1   0   2 ...  49  60  61]\n",
      " [  2   1   3 ...  61  29  37]\n",
      " ...\n",
      " [182 173 181 ... 146 139 133]\n",
      " [183 174 182 ... 140 178 155]\n",
      " [184 180 181 ... 144 152 156]]\n"
     ]
    }
   ],
   "source": [
    "# neighbours visualization section\n",
    "print(raw_data[\"neighbors\"].shape)\n",
    "print(raw_data[\"neighbors\"])"
   ]
  },
  {
   "cell_type": "code",
   "execution_count": 62,
   "id": "7a3b2696",
   "metadata": {},
   "outputs": [
    {
     "name": "stdout",
     "output_type": "stream",
     "text": [
      "(185, 2)\n"
     ]
    },
    {
     "data": {
      "text/plain": [
       "<Axes: >"
      ]
     },
     "execution_count": 62,
     "metadata": {},
     "output_type": "execute_result"
    },
    {
     "data": {
      "image/png": "[encoded data removed]",
      "text/plain": [
       "<Figure size 400x200 with 1 Axes>"
      ]
     },
     "metadata": {},
     "output_type": "display_data"
    }
   ],
   "source": [
    "# point_positions visualization section\n",
    "print(raw_data[\"point_positions\"].shape)\n",
    "plt.figure(figsize=(4, 2))\n",
    "plt.xlim(0, 1440)\n",
    "plt.ylim(0, 750)\n",
    "sns.scatterplot(x = raw_data[\"point_positions\"][:,0], y = raw_data[\"point_positions\"][:,1], s =1)"
   ]
  },
  {
   "cell_type": "code",
   "execution_count": 82,
   "id": "f4fd908e",
   "metadata": {},
   "outputs": [
    {
     "name": "stdout",
     "output_type": "stream",
     "text": [
      "(33485, 185, 2)\n"
     ]
    }
   ],
   "source": [
    "# points_tracked visualization section\n",
    "print(raw_data[\"points_tracked\"][\"0\"].shape)"
   ]
  },
  {
   "cell_type": "code",
   "execution_count": 89,
   "id": "15298b1d",
   "metadata": {},
   "outputs": [
    {
     "name": "stdout",
     "output_type": "stream",
     "text": [
      "{'col': array([ 16,  25,  26, ..., 151, 152, 153]), 'data': array([ True,  True,  True, ...,  True,  True,  True]), 'row': array([21548, 21548, 21548, ..., 31760, 31760, 31760]), 'shape': array([33485,   185])}\n"
     ]
    }
   ],
   "source": [
    "# violations section\n",
    "print(raw_data[\"violations\"][\"0\"])"
   ]
  }
 ],
 "metadata": {
  "kernelspec": {
   "display_name": "Python 3 (ipykernel)",
   "language": "python",
   "name": "python3"
  },
  "language_info": {
   "codemirror_mode": {
    "name": "ipython",
    "version": 3
   },
   "file_extension": ".py",
   "mimetype": "text/x-python",
   "name": "python",
   "nbconvert_exporter": "python",
   "pygments_lexer": "ipython3",
   "version": "3.11.11"
  }
 },
 "nbformat": 4,
 "nbformat_minor": 5
}
