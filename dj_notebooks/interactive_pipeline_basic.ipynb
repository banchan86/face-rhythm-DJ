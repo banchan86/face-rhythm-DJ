{
 "cells": [
  {
   "cell_type": "markdown",
   "metadata": {
    "pycharm": {
     "name": "#%% md\n"
    }
   },
   "source": [
    "***\n",
    "<center><h1>Face Rhythm</h1></center>\n",
    "\n",
    "***\n",
    "\n",
    "<table><tr>\n",
    "<td> <img src=\"https://images.squarespace-cdn.com/content/5688a31305f8e23aa2893502/1614723283221-5Z5038AT7Y6KCOM2PIU4/Screenshot+from+2021-03-02+17-05-12.png?content-type=image%2Fpng\" style=\"height: 200px\"> </td>\n",
    "<td> <img src=\"https://images.squarespace-cdn.com/content/5688a31305f8e23aa2893502/1614723856628-J89PYYSF7K7JATE2KMF9/Screenshot+from+2021-03-02+17-23-46.png?format=300w&content-type=image%2Fpng\" style=\"height: 200px\"> </td>\n",
    "<td> <img src=\"https://images.squarespace-cdn.com/content/5688a31305f8e23aa2893502/1614723931026-OORV0RAPZNWV3R8TBOXB/Screenshot+from+2021-03-02+17-25-11.png?format=300w&content-type=image%2Fpng\" style=\"height: 200px\"> </td>\n",
    "<td> <img src=\"https://images.squarespace-cdn.com/content/5688a31305f8e23aa2893502/1614724055033-O3GBEF1D9MULFZKI2IUJ/Screenshot+from+2021-03-02+17-27-10.png?format=300w&content-type=image%2Fpng\" style=\"height: 200px\"> </td>\n",
    "<td> <img src=\"https://images.squarespace-cdn.com/content/5688a31305f8e23aa2893502/1614723378405-WXN74ZTT1KYZUQGDM07X/face_rhythm_banner2.png?format=1000w&content-type=image%2Fpng\" style=\"height: 200px\"> </td>\n",
    "</tr></table>\n",
    "\n",
    "***\n",
    "\n",
    "##### Notebook Shortcuts\n",
    "- **[Notebook Setup](#Notebook-Setup)**: Prepare all the necessary config files and folders\n",
    "- **[Set ROI](#Set-ROI)**: Set the ROI for the analysis\n",
    "- **[Run Optic Flow](#Run-Optic-Flow)**: Run the optic flow analysis\n",
    "- **[Clean Optic Flow](#Clean-Optic-Flow)**: Optic flow post-processing\n",
    "- **[Convolutional Dimensionality Reduction](#Convolutional-Dimensionality-Reduction)**: Convolutional Dimensionality Reduction\n",
    "- **[Analysis](#Analysis)**: Decompose and Analyze the optic flow data in many ways\n",
    "- **[Comparisons](#Comparisons)**: Compare Face Rhythm to some peer algorithms\n",
    "\n",
    "***"
   ]
  },
  {
   "cell_type": "markdown",
   "metadata": {
    "pycharm": {
     "name": "#%% md\n"
    }
   },
   "source": [
    "# Tips on running this notebook:\n",
    "In theory it would be nice if you could just enter the path of the video(s) and just let it run all the way through. In practice, there are a few hoops to jump through\n",
    "- Run the Notebook Setup Block (two blocks below this one). This should pretty much always be done, even if you are loading precomputed file from disk instead of calculating them. This step loads in some useful meta data used throughout.\n",
    "- Even if you are restarting at a specific point in your analysis, run your Setup Block then head down to your current analysis step cell "
   ]
  },
  {
   "cell_type": "markdown",
   "metadata": {},
   "source": [
    "# Project Directory Organization\n",
    "------------\n",
    "\n",
    "    Project Directory\n",
    "    ├── config.yaml           <- Configuration parameters to run each module in the pipeline. Dictionary.\n",
    "    ├── run_info.json         <- Output information from each module. Dictionary.\n",
    "    │\n",
    "    ├── run_data              <- Output data from each module.\n",
    "    │   ├── Dataset_videos.h5 <- Output data from Dataset_videos class. Contains metadata about the videos.\n",
    "    │   ├── ROIs.h5           <- Output data from ROIs class. Contains ROI masks.\n",
    "    │   ├── PointTracker.h5   <- Output data from PointTracker class. Contains point tracking data.\n",
    "    |   ├── VQT_Analyzer.h5   <- Output data from VQT_Analyzer class. Contains spectral decomposition data.\n",
    "    │   ├── TCA.h5            <- Output data from TCA class. Contains TCA decomposition data.\n",
    "    │   \n",
    "    └── visualizations        <- Output visualizations.\n",
    "        ├── factors_rearranged_[frequency].png  <- Example of a rearranged factor plot.\n",
    "        └── point_tracking_demo.avi             <- Example video.\n",
    "\n"
   ]
  },
  {
   "cell_type": "markdown",
   "metadata": {},
   "source": [
    "#### Modifications\n",
    "\n",
    "Modified by Shawn Tan (banchan@gmail.com) for DJ BambahMukku Lab\n",
    "\n",
    "#### Changelog\n",
    "\n",
    "3/25/25 - Removed spectral analysis and decomposition sections, modified analysis parameters for DJ lab airpuff setup. "
   ]
  },
  {
   "cell_type": "markdown",
   "metadata": {
    "pycharm": {
     "name": "#%% md\n"
    }
   },
   "source": [
    "***\n",
    "<center><h1>Notebook Setup</h1></center>\n",
    "\n",
    "***\n",
    "\n",
    "### Creates config and locates videos\n",
    "\n",
    "**Crucially, always run this first cell every time you run this notebook.**\n",
    "\n",
    "Also, generally make sure to read through the config parameters before running.\n",
    "\n",
    "The Project path is the path to a folder (existing or not) where we will store our derived files. I recommend creating a project folder and then copying this notebook into that folder.\n",
    "The Video path is the path to a folder containing videos. \n",
    "The run name will determine the name of the config. You might create multiple configs if you want to re-run the same data with slightly different parameters\n",
    "\n",
    "Previous face rhythm users might be familiar with the 'sessions' structure. Some users will want to run multiple sessions through Face Rhythm at the same time. If that's you, then read the docs to see what parameters to change:\n",
    "https://face-rhythm.readthedocs.io/\n",
    "\n",
    "If you did everything according to the readme, you should see that the video_path currently points to a folder containing one sample video in the testing folder. Give this a try!"
   ]
  },
  {
   "cell_type": "code",
   "execution_count": 1,
   "metadata": {
    "pycharm": {
     "name": "#%%\n"
    }
   },
   "outputs": [
    {
     "data": {
      "text/html": [
       "<style>.container {width:95% !important; }</style>"
      ],
      "text/plain": [
       "<IPython.core.display.HTML object>"
      ]
     },
     "metadata": {},
     "output_type": "display_data"
    },
    {
     "name": "stdout",
     "output_type": "stream",
     "text": [
      "== Operating System ==: uname_result(system='Windows', node='kino-work', release='10', version='10.0.26100', machine='AMD64')\n",
      "== CPU Info ==: {'n_cores': 8, 'brand': '11th Gen Intel(R) Core(TM) i7-11370H @ 3.30GHz'}\n",
      "== RAM ==: svmem(total=16856297472, available=4692709376, percent=72.2, used=12163588096, free=4692709376)\n",
      "== GPU Info ==: {0: {'id': 0, 'uuid': 'GPU-9734826f-e9a2-f7a9-ae48-e32fe334a12e', 'load': 0.0, 'memoryUtil': 0.0, 'memoryTotal': 4096.0, 'memoryUsed': 0.0, 'memoryFree': 3964.0, 'driver': '566.07', 'name': 'NVIDIA GeForce RTX 3050 Laptop GPU', 'serial': '[N/A]', 'display_mode': 'Disabled', 'display_active': 'Disabled', 'temperature': 45.0}}\n",
      "== Conda Environment ==: face_rhythm\n",
      "== Python Version ==: 3.11.11\n",
      "== GCC Version ==: Faled to get\n",
      "== PyTorch Version ==: 2.6.0+cpu\n",
      "== CUDA is not available ==\n",
      "== face_rhythm Version ==: <module 'face_rhythm' from 'C:\\\\Users\\\\shawn\\\\miniconda3\\\\envs\\\\face_rhythm\\\\Lib\\\\site-packages\\\\face_rhythm\\\\__init__.py'>\n",
      "== face_rhythm date installed ==: Mon Feb 24 15:39:11 2025\n"
     ]
    },
    {
     "name": "stderr",
     "output_type": "stream",
     "text": [
      "C:\\Users\\shawn\\miniconda3\\envs\\face_rhythm\\Lib\\site-packages\\face_rhythm\\util.py:1019: UserWarning: RH WARNING: unable to get gcc version. Got error: [WinError 2] The system cannot find the file specified\n",
      "  warnings.warn(f'RH WARNING: unable to get gcc version. Got error: {e}')\n"
     ]
    }
   ],
   "source": [
    "# ALWAYS RUN THIS CELL\n",
    "# widen jupyter notebook window\n",
    "from IPython.display import display, HTML\n",
    "display(HTML(\"<style>.container {width:95% !important; }</style>\"))\n",
    "\n",
    "%load_ext autoreload\n",
    "%autoreload 2\n",
    "import face_rhythm as fr\n",
    "\n",
    "from pprint import pprint\n",
    "from pathlib import Path\n",
    "\n",
    "import cv2\n",
    "\n",
    "import numpy as np\n",
    "import torch\n",
    "import matplotlib.pyplot\n",
    "\n",
    "fr.util.system_info(verbose=True);"
   ]
  },
  {
   "cell_type": "code",
   "execution_count": 2,
   "metadata": {},
   "outputs": [],
   "source": [
    "# Change these to your desired project path and video path\n",
    "# Assuming that your notebook is running  in your project directory, \n",
    "# then the project directory is current working directory\n",
    "# Also, we have some test videos in the face_rhythm repo, so you can set the video directory there for testing\n",
    "\n",
    "# Shawn's note 3/25/25 \n",
    "# amended this section so that analysis script does not have to be placed in data folder and can be version tracked with git\n",
    "# currently set up to run face_rhythm for each session (animal) and to save face_rhythm results in each individual session\n",
    "# added regex to match raw video rather than screen recording\n",
    "\n",
    "directory_project = str(Path(\"../../Airpuff_Data/03182025_Cage_PN37/LLM\").resolve())\n",
    "directory_videos = str(Path(\"../../Airpuff_Data/03182025_Cage_PN37/LLM\").resolve())\n",
    "filename_strMatch = r\"^video.*\\.avi$\"  ## You can use regular expressions to search and match more complex strings"
   ]
  },
  {
   "cell_type": "code",
   "execution_count": 3,
   "metadata": {},
   "outputs": [
    {
     "name": "stdout",
     "output_type": "stream",
     "text": [
      "Initializing cv2.imshow\n",
      "FR: Found config.yaml file at C:\\Users\\shawn\\Desktop\\AirPuff_Data\\03182025_Cage_PN37\\LLM\\config.yaml\n"
     ]
    }
   ],
   "source": [
    "path_config, path_run_info, directory_project = fr.project.prepare_project(\n",
    "    directory_project=directory_project,\n",
    "    overwrite_config=False,  ## WARNING! CHECK THIS.\n",
    "    mkdir=True,    \n",
    "    initialize_visualization=True,    \n",
    "    verbose=2,\n",
    ")\n",
    "figure_saver = fr.util.Figure_Saver(\n",
    "    path_config=path_config,\n",
    "    formats_save=['png'],\n",
    "    kwargs_savefig={'bbox_inches': 'tight', 'pad_inches': 0.1, 'transparent': True, 'dpi': 300},\n",
    "    overwrite=True,\n",
    "    verbose=2,\n",
    ")"
   ]
  },
  {
   "cell_type": "markdown",
   "metadata": {},
   "source": [
    "# Prepare video data for point tracking"
   ]
  },
  {
   "cell_type": "code",
   "execution_count": 4,
   "metadata": {},
   "outputs": [
    {
     "name": "stdout",
     "output_type": "stream",
     "text": [
      "['C:\\\\Users\\\\shawn\\\\Desktop\\\\AirPuff_Data\\\\03182025_Cage_PN37\\\\LLM\\\\video2025-03-18T15_31_30.avi']\n"
     ]
    }
   ],
   "source": [
    "paths_videos = fr.helpers.find_paths(\n",
    "    dir_outer=directory_videos,\n",
    "    reMatch=filename_strMatch,  ## string to use to search for files in directory. Uses regular expressions!\n",
    "    depth=0,  ## how many folders deep to search\n",
    ")\n",
    "\n",
    "pprint(paths_videos, width=1000)"
   ]
  },
  {
   "cell_type": "markdown",
   "metadata": {},
   "source": [
    "Make a `BufferedVideoReader` object for reading video file data"
   ]
  },
  {
   "cell_type": "code",
   "execution_count": 5,
   "metadata": {},
   "outputs": [],
   "source": [
    "videos = fr.helpers.BufferedVideoReader(\n",
    "#     video_readers=data.videos, \n",
    "    paths_videos=paths_videos,\n",
    "    buffer_size=1000, \n",
    "    prefetch=1, \n",
    "    posthold=1,\n",
    "    method_getitem='by_video',\n",
    "    verbose=1,\n",
    ")"
   ]
  },
  {
   "cell_type": "markdown",
   "metadata": {},
   "source": [
    "Make a `Dataset_videos` object for referencing the raw video data"
   ]
  },
  {
   "cell_type": "code",
   "execution_count": 6,
   "metadata": {},
   "outputs": [
    {
     "name": "stdout",
     "output_type": "stream",
     "text": [
      "printing this line helps the bufferedVideoReader object load properly.   <class 'face_rhythm.helpers.BufferedVideoReader'> <class 'type'> <class 'type'> True\n"
     ]
    }
   ],
   "source": [
    "data = fr.data_importing.Dataset_videos(\n",
    "    bufferedVideoReader=videos,\n",
    "#     paths_videos=paths_videos,\n",
    "    contiguous=False,\n",
    "#     frame_rate_clamp=240,\n",
    "    verbose=2,\n",
    ");"
   ]
  },
  {
   "cell_type": "markdown",
   "metadata": {},
   "source": [
    "Save the `Dataset_videos` object in the 'analysis_files' project folder"
   ]
  },
  {
   "cell_type": "code",
   "execution_count": 7,
   "metadata": {},
   "outputs": [
    {
     "name": "stdout",
     "output_type": "stream",
     "text": [
      "FR Warning: Overwriting field. 'Dataset_videos' already in config.yaml.\n",
      "FR Warning: Overwriting field. 'Dataset_videos' is already a field in the run_info.json dictionary.\n",
      "FR WARNING: path_run_data file is expected to be named 'Dataset_videos.h5' if it is part of a project. Please make sure this is correct.\n",
      "FR Warning: Overwriting file. File: C:\\Users\\shawn\\Desktop\\AirPuff_Data\\03182025_Cage_PN37\\LLM\\analysis_files\\Dataset_videos.h5 already exists.\n"
     ]
    }
   ],
   "source": [
    "data.save_config(path_config=path_config, overwrite=True, verbose=1)\n",
    "data.save_run_info(path_config=path_config, overwrite=True, verbose=1)\n",
    "data.save_run_data(path_config=path_config, overwrite=True, verbose=1)"
   ]
  },
  {
   "cell_type": "markdown",
   "metadata": {},
   "source": [
    "# Define ROIs"
   ]
  },
  {
   "cell_type": "markdown",
   "metadata": {},
   "source": [
    "Either select new ROIs (`select_mode='gui'`) and provide an exampleImage, or import existing ROIs (`path_file=path_to_ROIs.h5_file`).\\\n",
    "**Typically, you should make 1 or 2 ROIs. The first defining where the face points should be and the second for cropping the frame.**"
   ]
  },
  {
   "cell_type": "code",
   "execution_count": 7,
   "metadata": {
    "scrolled": false
   },
   "outputs": [],
   "source": [
    "# Shawn's notes 3/25/25\n",
    "# Make the first ROI the region you want to track (dont make it too small, make it big)\n",
    "# Click new ROI \n",
    "# Make the 2nd ROI the masking region (say lower half of chamber)\n",
    "# Confirm ROI\n",
    "# if loading from a previous file use select_mode='file', \n",
    "\n",
    "exampleImage = data[0][0]\n",
    "# %matplotlib notebook\n",
    "rois = fr.rois.ROIs(\n",
    "#     select_mode='gui',\n",
    "    select_mode='file',\n",
    "    exampleImage=exampleImage,\n",
    "#     select_mode='file',\n",
    "#     path_file=str(Path('/home/rich/Desktop/0322N_and_0322R/mouse_0322N__20230430/') / 'ROIs.h5'),\n",
    "    path_file=r'C:\\Users\\shawn\\Desktop\\AirPuff_Data\\03182025_Cage_PN37\\LLM\\analysis_files\\ROIs.h5',\n",
    "    verbose=2\n",
    ")\n",
    "\n"
   ]
  },
  {
   "cell_type": "markdown",
   "metadata": {},
   "source": [
    "Make a point grid out of the first ROI"
   ]
  },
  {
   "cell_type": "code",
   "execution_count": 9,
   "metadata": {},
   "outputs": [],
   "source": [
    "rois.make_points(rois=rois[0], point_spacing=13) if rois.point_positions is None else None"
   ]
  },
  {
   "cell_type": "markdown",
   "metadata": {},
   "source": [
    "Save the `ROIs` object in the 'analysis_files' project folder"
   ]
  },
  {
   "cell_type": "code",
   "execution_count": 10,
   "metadata": {},
   "outputs": [
    {
     "name": "stdout",
     "output_type": "stream",
     "text": [
      "FR Warning: Overwriting field. 'ROIs' already in config.yaml.\n",
      "FR Warning: Overwriting field. 'ROIs' is already a field in the run_info.json dictionary.\n",
      "FR WARNING: path_run_data file is expected to be named 'ROIs.h5' if it is part of a project. Please make sure this is correct.\n",
      "FR Warning: Overwriting file. File: C:\\Users\\shawn\\Desktop\\AirPuff_Data\\03182025_Cage_PN37\\LLM\\analysis_files\\ROIs.h5 already exists.\n"
     ]
    }
   ],
   "source": [
    "rois.save_config(path_config=path_config, overwrite=True, verbose=1)\n",
    "rois.save_run_info(path_config=path_config, overwrite=True, verbose=1)\n",
    "rois.save_run_data(path_config=path_config, overwrite=True, verbose=1)"
   ]
  },
  {
   "cell_type": "markdown",
   "metadata": {},
   "source": [
    "visualize the ROIs"
   ]
  },
  {
   "cell_type": "code",
   "execution_count": 8,
   "metadata": {},
   "outputs": [
    {
     "data": {
      "image/png": "[encoded data removed]",
      "text/plain": [
       "<Figure size 640x480 with 1 Axes>"
      ]
     },
     "metadata": {},
     "output_type": "display_data"
    },
    {
     "data": {
      "text/plain": [
       "(<Figure size 640x480 with 1 Axes>, <Axes: >)"
      ]
     },
     "execution_count": 8,
     "metadata": {},
     "output_type": "execute_result"
    }
   ],
   "source": [
    "rois.plot_rois(exampleImage)"
   ]
  },
  {
   "cell_type": "markdown",
   "metadata": {},
   "source": [
    "# Point Tracking"
   ]
  },
  {
   "cell_type": "markdown",
   "metadata": {},
   "source": [
    "Prepare `PointTracker` object.\\\n",
    "Set `visualize_video` to **`True`** to tune parameters until they look appropriate, then set to **`False`** to run the full dataset through at a much faster speed.\n",
    "\n",
    "Key parameters:\n",
    "- `point_spacing`: distance between points. Vary so that total number of points is appropriate.\n",
    "- `mesh_rigidity`: how rigid the mesh elasticity is. Vary so that points track well without drift.\n",
    "- `relaxation`: how quickly the points relax back to their home position. Vary so that points track well without dift.\n",
    "- `kwargs_method > winSize`: the spatial size of the optical flow calculation. Smaller is better but noisier, larger is less accurate but more robust to noise.\n",
    "- `params_outlier_handling > threshold_displacement`: point displacements above this value will result in freezing of the points."
   ]
  },
  {
   "cell_type": "code",
   "execution_count": null,
   "metadata": {},
   "outputs": [],
   "source": [
    "# Face rhythm default parameters\n",
    "#      params_optical_flow = {\n",
    "#             \"method\": \"lucas_kanade\",\n",
    "#             \"mesh_rigidity\": 0.005,\n",
    "#             \"mesh_n_neighbors\": 10,\n",
    "#             \"relaxation\": 0.5,\n",
    "#             \"kwargs_method\": {\n",
    "#                 \"winSize\": [15,15],\n",
    "#                 \"maxLevel\": 2,\n",
    "#                 \"criteria\": [cv2.TERM_CRITERIA_EPS | cv2.TERM_CRITERIA_COUNT, 10, 0.03],\n",
    "#             },\n",
    "#         }\n",
    "\n",
    "\n",
    "# Face rhythm original notebook parameters\n",
    "#     params_optical_flow={\n",
    "#         \"method\": \"lucas_kanade\",\n",
    "#         \"mesh_rigidity\": 0.02,\n",
    "#         \"mesh_n_neighbors\": 70,\n",
    "#         \"relaxation\": 0.003,\n",
    "#         \"kwargs_method\": {\n",
    "#             \"winSize\": [60, 60],\n",
    "#             \"maxLevel\": 5,\n",
    "#             \"criteria\": [cv2.TERM_CRITERIA_EPS | cv2.TERM_CRITERIA_COUNT, 20, 0.0003],\n",
    "#         },        \n",
    "#     },\n",
    "\n",
    "# Initial parameters from discussion with hakim\n",
    "#     params_optical_flow={\n",
    "#         \"method\": \"lucas_kanade\",\n",
    "#         \"mesh_rigidity\": 0.08,\n",
    "#         \"mesh_n_neighbors\": 40,\n",
    "#         \"relaxation\": 0.0005,\n",
    "#         \"kwargs_method\": {\n",
    "#             \"winSize\": [75, 75],\n",
    "#             \"maxLevel\": 1,\n",
    "#             \"criteria\": [cv2.TERM_CRITERIA_EPS | cv2.TERM_CRITERIA_COUNT, 2, 0.0003],\n",
    "#         },        \n",
    "#     },\n",
    "\n",
    "# adjusted parameters 3/25/25\n",
    "#     params_optical_flow={\n",
    "#         \"method\": \"lucas_kanade\",\n",
    "#         \"mesh_rigidity\": 0.1,\n",
    "#         \"mesh_n_neighbors\": 40,\n",
    "#         \"relaxation\": 0.001,\n",
    "#         \"kwargs_method\": {\n",
    "#             \"winSize\": [45, 45],\n",
    "#             \"maxLevel\": 2,\n",
    "#             \"criteria\": [cv2.TERM_CRITERIA_EPS | cv2.TERM_CRITERIA_COUNT, 5, 0.0002],\n",
    "#         },        \n",
    "#     },"
   ]
  },
  {
   "cell_type": "code",
   "execution_count": 9,
   "metadata": {},
   "outputs": [
    {
     "name": "stdout",
     "output_type": "stream",
     "text": [
      "FR: 332 points will be tracked\n",
      "FR: Collapsing mask ROI images into single mask\n",
      "FR: Initializing mesh distances\n",
      "FR: Preparing playback visualizer\n"
     ]
    }
   ],
   "source": [
    "pt = fr.point_tracking.PointTracker(\n",
    "    visualize_video=True,\n",
    "#     buffered_video_reader=videos[:5],\n",
    "    buffered_video_reader=videos,\n",
    "    point_positions=rois.point_positions,\n",
    "    rois_masks=[rois[1]],\n",
    "    contiguous=True,\n",
    "    params_optical_flow={\n",
    "        \"method\": \"lucas_kanade\",\n",
    "        \"mesh_rigidity\": 0.15,\n",
    "        \"mesh_n_neighbors\": 35,\n",
    "        \"relaxation\": 0.001,\n",
    "        \"kwargs_method\": {\n",
    "            \"winSize\": [45, 45],\n",
    "            \"maxLevel\": 2,\n",
    "            \"criteria\": [cv2.TERM_CRITERIA_EPS | cv2.TERM_CRITERIA_COUNT, 5, 0.0003],\n",
    "        },        \n",
    "    },\n",
    "# Shawn's note 3/25/25 tried turning off clahe but it cant be none\n",
    "#         params_clahe={\n",
    "#         \"clipLimit\": 60.0,\n",
    "#         \"tileGridSize\": (250, 250),\n",
    "#     },\n",
    "    params_clahe=None,\n",
    "    params_visualization={\n",
    "        'alpha': 0.9,\n",
    "        'point_sizes': 3,\n",
    "    },\n",
    "    params_outlier_handling = {\n",
    "        'threshold_displacement': 120,  ## Maximum displacement between frames, in pixels.\n",
    "        'framesHalted_before': 10,  ## Number of frames to halt tracking before a violation.\n",
    "        'framesHalted_after': 10,  ## Number of frames to halt tracking after a violation.\n",
    "    },\n",
    "    idx_start=0,  ## generally only change for visualization.\n",
    "    verbose=2,\n",
    ")"
   ]
  },
  {
   "cell_type": "markdown",
   "metadata": {},
   "source": [
    "Perform point tracking"
   ]
  },
  {
   "cell_type": "code",
   "execution_count": 10,
   "metadata": {},
   "outputs": [
    {
     "name": "stdout",
     "output_type": "stream",
     "text": [
      "FR: Setting initial frame_prev\n",
      "FR: Iterating point tracking through videos\n"
     ]
    },
    {
     "name": "stderr",
     "output_type": "stream",
     "text": [
      "\n",
      "frame #:   1%|▋                                                                                                     | 335/47120 [00:14<33:16, 23.43it/s]\u001b[A\n",
      "video #:   0%|                                                                                                                    | 0/1 [00:14<?, ?it/s]\n"
     ]
    },
    {
     "ename": "KeyboardInterrupt",
     "evalue": "",
     "output_type": "error",
     "traceback": [
      "\u001b[1;31m---------------------------------------------------------------------------\u001b[0m",
      "\u001b[1;31mKeyboardInterrupt\u001b[0m                         Traceback (most recent call last)",
      "Cell \u001b[1;32mIn[10], line 1\u001b[0m\n\u001b[1;32m----> 1\u001b[0m \u001b[43mpt\u001b[49m\u001b[38;5;241;43m.\u001b[39;49m\u001b[43mtrack_points\u001b[49m\u001b[43m(\u001b[49m\u001b[43m)\u001b[49m\n",
      "File \u001b[1;32m~\\miniconda3\\envs\\face_rhythm\\Lib\\site-packages\\face_rhythm\\point_tracking.py:377\u001b[0m, in \u001b[0;36mPointTracker.track_points\u001b[1;34m(self)\u001b[0m\n\u001b[0;32m    374\u001b[0m frame_prev \u001b[38;5;241m=\u001b[39m \u001b[38;5;28mself\u001b[39m\u001b[38;5;241m.\u001b[39m_format_decordTorchVideo_for_opticalFlow(vid\u001b[38;5;241m=\u001b[39mvideo\u001b[38;5;241m.\u001b[39mget_frames_from_continuous_index(\u001b[38;5;241m0\u001b[39m), mask\u001b[38;5;241m=\u001b[39m\u001b[38;5;28mself\u001b[39m\u001b[38;5;241m.\u001b[39mmask)[\u001b[38;5;241m0\u001b[39m] \u001b[38;5;28;01mif\u001b[39;00m \u001b[38;5;129;01mnot\u001b[39;00m \u001b[38;5;28mself\u001b[39m\u001b[38;5;241m.\u001b[39m_contiguous \u001b[38;5;28;01melse\u001b[39;00m frame_prev\n\u001b[0;32m    376\u001b[0m \u001b[38;5;28mprint\u001b[39m(\u001b[38;5;124mf\u001b[39m\u001b[38;5;124m\"\u001b[39m\u001b[38;5;124mFR: Iterating through frames of video \u001b[39m\u001b[38;5;132;01m{\u001b[39;00mii\u001b[38;5;132;01m}\u001b[39;00m\u001b[38;5;124m\"\u001b[39m) \u001b[38;5;28;01mif\u001b[39;00m \u001b[38;5;28mself\u001b[39m\u001b[38;5;241m.\u001b[39m_verbose \u001b[38;5;241m>\u001b[39m \u001b[38;5;241m2\u001b[39m \u001b[38;5;28;01melse\u001b[39;00m \u001b[38;5;28;01mNone\u001b[39;00m\n\u001b[1;32m--> 377\u001b[0m points, frame_prev \u001b[38;5;241m=\u001b[39m \u001b[38;5;28;43mself\u001b[39;49m\u001b[38;5;241;43m.\u001b[39;49m\u001b[43m_track_points_singleVideo\u001b[49m\u001b[43m(\u001b[49m\n\u001b[0;32m    378\u001b[0m \u001b[43m    \u001b[49m\u001b[43mvideo\u001b[49m\u001b[38;5;241;43m=\u001b[39;49m\u001b[43mvideo\u001b[49m\u001b[43m,\u001b[49m\n\u001b[0;32m    379\u001b[0m \u001b[43m    \u001b[49m\u001b[43mpoints_prev\u001b[49m\u001b[38;5;241;43m=\u001b[39;49m\u001b[43mpoints_prev\u001b[49m\u001b[43m,\u001b[49m\n\u001b[0;32m    380\u001b[0m \u001b[43m    \u001b[49m\u001b[43mframe_prev\u001b[49m\u001b[38;5;241;43m=\u001b[39;49m\u001b[43mframe_prev\u001b[49m\u001b[43m,\u001b[49m\n\u001b[0;32m    381\u001b[0m \u001b[43m    \u001b[49m\u001b[43midx_start\u001b[49m\u001b[38;5;241;43m=\u001b[39;49m\u001b[38;5;28;43mself\u001b[39;49m\u001b[38;5;241;43m.\u001b[39;49m\u001b[43midx_start\u001b[49m\u001b[43m \u001b[49m\u001b[38;5;28;43;01mif\u001b[39;49;00m\u001b[43m \u001b[49m\u001b[38;5;28;43mself\u001b[39;49m\u001b[38;5;241;43m.\u001b[39;49m\u001b[43m_contiguous\u001b[49m\u001b[43m \u001b[49m\u001b[38;5;28;43;01melse\u001b[39;49;00m\u001b[43m \u001b[49m\u001b[38;5;28;43mself\u001b[39;49m\u001b[38;5;241;43m.\u001b[39;49m\u001b[43midx_start\u001b[49m\u001b[43m[\u001b[49m\u001b[43mii\u001b[49m\u001b[43m]\u001b[49m\u001b[43m,\u001b[49m\n\u001b[0;32m    382\u001b[0m \u001b[43m\u001b[49m\u001b[43m)\u001b[49m\n\u001b[0;32m    383\u001b[0m \u001b[38;5;28mself\u001b[39m\u001b[38;5;241m.\u001b[39mpoints_tracked\u001b[38;5;241m.\u001b[39mappend(points)\n\u001b[0;32m    384\u001b[0m \u001b[38;5;28mself\u001b[39m\u001b[38;5;241m.\u001b[39mviolations\u001b[38;5;241m.\u001b[39mappend(\u001b[38;5;28mself\u001b[39m\u001b[38;5;241m.\u001b[39mviolations_currentVideo\u001b[38;5;241m.\u001b[39mtocoo())\n",
      "File \u001b[1;32m~\\miniconda3\\envs\\face_rhythm\\Lib\\site-packages\\face_rhythm\\point_tracking.py:460\u001b[0m, in \u001b[0;36mPointTracker._track_points_singleVideo\u001b[1;34m(self, video, points_prev, frame_prev, idx_start)\u001b[0m\n\u001b[0;32m    458\u001b[0m \u001b[38;5;28;01mfor\u001b[39;00m frame \u001b[38;5;129;01min\u001b[39;00m video:\n\u001b[0;32m    459\u001b[0m     frame_new \u001b[38;5;241m=\u001b[39m \u001b[38;5;28mself\u001b[39m\u001b[38;5;241m.\u001b[39m_format_decordTorchVideo_for_opticalFlow(vid\u001b[38;5;241m=\u001b[39mframe[\u001b[38;5;28;01mNone\u001b[39;00m,\u001b[38;5;241m.\u001b[39m\u001b[38;5;241m.\u001b[39m\u001b[38;5;241m.\u001b[39m], mask\u001b[38;5;241m=\u001b[39m\u001b[38;5;28mself\u001b[39m\u001b[38;5;241m.\u001b[39mmask)[\u001b[38;5;241m0\u001b[39m]\n\u001b[1;32m--> 460\u001b[0m     points_tracked[\u001b[38;5;28mself\u001b[39m\u001b[38;5;241m.\u001b[39mi_frame] \u001b[38;5;241m=\u001b[39m \u001b[38;5;28;43mself\u001b[39;49m\u001b[38;5;241;43m.\u001b[39;49m\u001b[43m_track_points_singleFrame\u001b[49m\u001b[43m(\u001b[49m\n\u001b[0;32m    461\u001b[0m \u001b[43m        \u001b[49m\u001b[43mframe_new\u001b[49m\u001b[38;5;241;43m=\u001b[39;49m\u001b[43mframe_new\u001b[49m\u001b[43m,\u001b[49m\n\u001b[0;32m    462\u001b[0m \u001b[43m        \u001b[49m\u001b[43mframe_prev\u001b[49m\u001b[38;5;241;43m=\u001b[39;49m\u001b[43mframe_prev\u001b[49m\u001b[43m,\u001b[49m\n\u001b[0;32m    463\u001b[0m \u001b[43m        \u001b[49m\u001b[43mpoints_prev\u001b[49m\u001b[38;5;241;43m=\u001b[39;49m\u001b[43mpoints_prev\u001b[49m\u001b[43m,\u001b[49m\n\u001b[0;32m    464\u001b[0m \u001b[43m    \u001b[49m\u001b[43m)\u001b[49m\n\u001b[0;32m    465\u001b[0m     frame_prev \u001b[38;5;241m=\u001b[39m frame_new\n\u001b[0;32m    466\u001b[0m     points_prev \u001b[38;5;241m=\u001b[39m points_tracked[\u001b[38;5;28mself\u001b[39m\u001b[38;5;241m.\u001b[39mi_frame]\n",
      "File \u001b[1;32m~\\miniconda3\\envs\\face_rhythm\\Lib\\site-packages\\face_rhythm\\point_tracking.py:511\u001b[0m, in \u001b[0;36mPointTracker._track_points_singleFrame\u001b[1;34m(self, frame_new, frame_prev, points_prev)\u001b[0m\n\u001b[0;32m    509\u001b[0m \u001b[38;5;66;03m## Visualize points\u001b[39;00m\n\u001b[0;32m    510\u001b[0m \u001b[38;5;28;01mif\u001b[39;00m \u001b[38;5;28mself\u001b[39m\u001b[38;5;241m.\u001b[39m_visualize_video:\n\u001b[1;32m--> 511\u001b[0m     \u001b[38;5;28;43mself\u001b[39;49m\u001b[38;5;241;43m.\u001b[39;49m\u001b[43mvisualizer\u001b[49m\u001b[38;5;241;43m.\u001b[39;49m\u001b[43mvisualize_image_with_points\u001b[49m\u001b[43m(\u001b[49m\n\u001b[0;32m    512\u001b[0m \u001b[43m        \u001b[49m\u001b[43mimage\u001b[49m\u001b[38;5;241;43m=\u001b[39;49m\u001b[43mcv2\u001b[49m\u001b[38;5;241;43m.\u001b[39;49m\u001b[43mcvtColor\u001b[49m\u001b[43m(\u001b[49m\u001b[43mframe_new\u001b[49m\u001b[43m,\u001b[49m\u001b[43m \u001b[49m\u001b[43mcv2\u001b[49m\u001b[38;5;241;43m.\u001b[39;49m\u001b[43mCOLOR_GRAY2BGR\u001b[49m\u001b[43m)\u001b[49m\u001b[43m,\u001b[49m\n\u001b[0;32m    513\u001b[0m \u001b[43m        \u001b[49m\u001b[38;5;66;43;03m# points=points_new[None,...].astype(np.int64),\u001b[39;49;00m\n\u001b[0;32m    514\u001b[0m \u001b[43m        \u001b[49m\u001b[43mpoints\u001b[49m\u001b[38;5;241;43m=\u001b[39;49m\u001b[43m[\u001b[49m\u001b[43mpoints_new\u001b[49m\u001b[43m[\u001b[49m\u001b[38;5;28;43mself\u001b[39;49m\u001b[38;5;241;43m.\u001b[39;49m\u001b[43m_pointIdx_violations_current\u001b[49m\u001b[43m]\u001b[49m\u001b[38;5;241;43m.\u001b[39;49m\u001b[43mastype\u001b[49m\u001b[43m(\u001b[49m\u001b[43mnp\u001b[49m\u001b[38;5;241;43m.\u001b[39;49m\u001b[43mint64\u001b[49m\u001b[43m)\u001b[49m\u001b[43m,\u001b[49m\u001b[43m \u001b[49m\u001b[43mpoints_new\u001b[49m\u001b[43m[\u001b[49m\u001b[38;5;241;43m~\u001b[39;49m\u001b[38;5;28;43mself\u001b[39;49m\u001b[38;5;241;43m.\u001b[39;49m\u001b[43m_pointIdx_violations_current\u001b[49m\u001b[43m]\u001b[49m\u001b[38;5;241;43m.\u001b[39;49m\u001b[43mastype\u001b[49m\u001b[43m(\u001b[49m\u001b[43mnp\u001b[49m\u001b[38;5;241;43m.\u001b[39;49m\u001b[43mint64\u001b[49m\u001b[43m)\u001b[49m\u001b[43m]\u001b[49m\u001b[43m,\u001b[49m\n\u001b[0;32m    515\u001b[0m \u001b[43m        \u001b[49m\u001b[43mpoints_colors\u001b[49m\u001b[38;5;241;43m=\u001b[39;49m\u001b[43m[\u001b[49m\u001b[43m(\u001b[49m\u001b[38;5;241;43m0\u001b[39;49m\u001b[43m,\u001b[49m\u001b[38;5;241;43m0\u001b[39;49m\u001b[43m,\u001b[49m\u001b[38;5;241;43m255\u001b[39;49m\u001b[43m)\u001b[49m\u001b[43m,\u001b[49m\u001b[43m \u001b[49m\u001b[43m(\u001b[49m\u001b[38;5;241;43m0\u001b[39;49m\u001b[43m,\u001b[49m\u001b[38;5;241;43m255\u001b[39;49m\u001b[43m,\u001b[49m\u001b[38;5;241;43m0\u001b[39;49m\u001b[43m)\u001b[49m\u001b[43m]\u001b[49m\u001b[43m,\u001b[49m\n\u001b[0;32m    516\u001b[0m \u001b[43m        \u001b[49m\u001b[38;5;66;43;03m# points_colors=[(0,0,255), (0,0,255)],\u001b[39;49;00m\n\u001b[0;32m    517\u001b[0m \u001b[43m        \u001b[49m\u001b[38;5;241;43m*\u001b[39;49m\u001b[38;5;241;43m*\u001b[39;49m\u001b[38;5;28;43mself\u001b[39;49m\u001b[38;5;241;43m.\u001b[39;49m\u001b[43m_params_visualization\u001b[49m\u001b[43m,\u001b[49m\n\u001b[0;32m    518\u001b[0m \u001b[43m    \u001b[49m\u001b[43m)\u001b[49m\n\u001b[0;32m    520\u001b[0m \u001b[38;5;28;01mreturn\u001b[39;00m points_new\n",
      "File \u001b[1;32m~\\miniconda3\\envs\\face_rhythm\\Lib\\site-packages\\face_rhythm\\visualization.py:389\u001b[0m, in \u001b[0;36mFrameVisualizer.visualize_image_with_points\u001b[1;34m(self, image, points, point_sizes, points_colors, alpha, text, text_positions, text_color, text_size, text_thickness)\u001b[0m\n\u001b[0;32m    381\u001b[0m                 cv2\u001b[38;5;241m.\u001b[39mcircle(\n\u001b[0;32m    382\u001b[0m                     img\u001b[38;5;241m=\u001b[39mimage_out,\n\u001b[0;32m    383\u001b[0m                     center\u001b[38;5;241m=\u001b[39m\u001b[38;5;28mtuple\u001b[39m(points),\n\u001b[1;32m   (...)\u001b[0m\n\u001b[0;32m    386\u001b[0m                     thickness\u001b[38;5;241m=\u001b[39m\u001b[38;5;241m-\u001b[39m\u001b[38;5;241m1\u001b[39m,\n\u001b[0;32m    387\u001b[0m                 )\n\u001b[0;32m    388\u001b[0m     \u001b[38;5;66;03m## Do weighted addition\u001b[39;00m\n\u001b[1;32m--> 389\u001b[0m     image_out \u001b[38;5;241m=\u001b[39m \u001b[43mcv2\u001b[49m\u001b[38;5;241;43m.\u001b[39;49m\u001b[43maddWeighted\u001b[49m\u001b[43m(\u001b[49m\u001b[43mimage_out\u001b[49m\u001b[43m,\u001b[49m\u001b[43m \u001b[49m\u001b[43malpha\u001b[49m\u001b[43m,\u001b[49m\u001b[43m \u001b[49m\u001b[43mimage\u001b[49m\u001b[43m,\u001b[49m\u001b[43m \u001b[49m\u001b[43m(\u001b[49m\u001b[38;5;241;43m1\u001b[39;49m\u001b[38;5;241;43m-\u001b[39;49m\u001b[43malpha\u001b[49m\u001b[43m)\u001b[49m\u001b[43m,\u001b[49m\u001b[43m \u001b[49m\u001b[38;5;241;43m0.0\u001b[39;49m\u001b[43m)\u001b[49m\n\u001b[0;32m    392\u001b[0m \u001b[38;5;66;03m## Plot text\u001b[39;00m\n\u001b[0;32m    393\u001b[0m \u001b[38;5;28;01mif\u001b[39;00m text \u001b[38;5;129;01mis\u001b[39;00m \u001b[38;5;129;01mnot\u001b[39;00m \u001b[38;5;28;01mNone\u001b[39;00m:\n\u001b[0;32m    394\u001b[0m     \u001b[38;5;66;03m## Plot text\u001b[39;00m\n",
      "\u001b[1;31mKeyboardInterrupt\u001b[0m: "
     ]
    }
   ],
   "source": [
    "pt.track_points()"
   ]
  },
  {
   "cell_type": "markdown",
   "metadata": {},
   "source": [
    "Save the `PointTracker` object in 'analysis_files' project directory.\\\n",
    "Using compression can reduce file sizes slightly but is very slow."
   ]
  },
  {
   "cell_type": "code",
   "execution_count": 28,
   "metadata": {},
   "outputs": [
    {
     "name": "stdout",
     "output_type": "stream",
     "text": [
      "FR Warning: Overwriting field. 'PointTracker' already in config.yaml.\n",
      "FR: Loading file C:\\Users\\shawn\\Desktop\\AirPuff_Data\\03182025_Cage_PN37\\LLM\\run_info.json\n",
      "FR Warning: Overwriting field. 'PointTracker' is already a field in the run_info.json dictionary.\n",
      "FR: Saving run_info.json to C:\\Users\\shawn\\Desktop\\AirPuff_Data\\03182025_Cage_PN37\\LLM\\run_info.json\n",
      "FR WARNING: path_run_data file is expected to be named 'PointTracker.h5' if it is part of a project. Please make sure this is correct.\n",
      "FR Warning: Overwriting file. File: C:\\Users\\shawn\\Desktop\\AirPuff_Data\\03182025_Cage_PN37\\LLM\\analysis_files\\PointTracker.h5 already exists.\n"
     ]
    }
   ],
   "source": [
    "pt.save_config(path_config=path_config, overwrite=True, verbose=1)\n",
    "pt.save_run_info(path_config=path_config, overwrite=True, verbose=2)\n",
    "pt.save_run_data(path_config=path_config, overwrite=True, use_compression=False, verbose=1)"
   ]
  },
  {
   "cell_type": "markdown",
   "metadata": {},
   "source": [
    "Clear some memory if needed. Optional."
   ]
  },
  {
   "cell_type": "code",
   "execution_count": 29,
   "metadata": {},
   "outputs": [
    {
     "name": "stdout",
     "output_type": "stream",
     "text": [
      "FR: Deleting all attributes\n"
     ]
    }
   ],
   "source": [
    "pt.cleanup()"
   ]
  },
  {
   "cell_type": "markdown",
   "metadata": {},
   "source": [
    "Load the `PointTracker` data as a dictionary"
   ]
  },
  {
   "cell_type": "code",
   "execution_count": 11,
   "metadata": {},
   "outputs": [
    {
     "name": "stdout",
     "output_type": "stream",
     "text": [
      "==== Loading h5 file with hierarchy: ====\n",
      "1. point_positions:    shape=(332, 2) ,    dtype=float32\n",
      "2. neighbors:       shape=(332, 35) ,   dtype=int64\n",
      "3. mesh_d0:         shape=(332, 2) ,    dtype=float32\n",
      "4. mask:            shape=(750, 1440) , dtype=bool\n",
      "5. points_tracked:----------------\n",
      "  1. 0:             shape=(47120, 332, 2) ,dtype=float32\n",
      "6. violations:----------------\n",
      "  1. 0:----------------\n",
      "    1. row:         shape=(34036,) ,    dtype=int32\n",
      "    2. col:         shape=(34036,) ,    dtype=int32\n",
      "    3. data:        shape=(34036,) ,    dtype=bool\n",
      "    4. shape:       shape=(2,) ,        dtype=int32\n"
     ]
    }
   ],
   "source": [
    "pt_data = fr.h5_handling.simple_load(str(Path(directory_project) / 'analysis_files' / 'PointTracker.h5'), return_dict=True, verbose=True)"
   ]
  },
  {
   "cell_type": "markdown",
   "metadata": {},
   "source": [
    "# Demo video visualization"
   ]
  },
  {
   "cell_type": "markdown",
   "metadata": {},
   "source": [
    "Playback a video with points overlayed.\\\n",
    "Make sure you have a `BufferedVideoReader` object called `videos` made of your videos"
   ]
  },
  {
   "cell_type": "code",
   "execution_count": 31,
   "metadata": {},
   "outputs": [
    {
     "name": "stderr",
     "output_type": "stream",
     "text": [
      "Exception ignored in: <function FrameVisualizer.__del__ at 0x00000231A0823F60>\n",
      "Traceback (most recent call last):\n",
      "  File \"C:\\Users\\shawn\\miniconda3\\envs\\face_rhythm\\Lib\\site-packages\\face_rhythm\\visualization.py\", line 433, in __del__\n",
      "    self.close()\n",
      "  File \"C:\\Users\\shawn\\miniconda3\\envs\\face_rhythm\\Lib\\site-packages\\face_rhythm\\visualization.py\", line 420, in close\n",
      "    cv2.destroyWindow(self.handle_cv2Imshow)\n",
      "cv2.error: OpenCV(4.9.0) D:\\a\\opencv-python\\opencv-python\\opencv\\modules\\highgui\\src\\window_w32.cpp:1261: error: (-27:Null pointer) NULL window: 'FaceRhythmPointVisualizer' in function 'cvDestroyWindow'\n",
      "\n"
     ]
    },
    {
     "name": "stdout",
     "output_type": "stream",
     "text": [
      "Initializing video writer with frame_rate=100, fourcc=\"MJPG\", frame_height_width=(750, 1440), path_save=C:\\Users\\shawn\\Desktop\\AirPuff_Data\\03182025_Cage_PN37\\LLM\\visualizations\\point_tracking_demo.avi\n",
      "<class 'face_rhythm.helpers.BufferedVideoReader'>\n"
     ]
    },
    {
     "name": "stderr",
     "output_type": "stream",
     "text": [
      "100%|███████████████████████████████████████████████████████████████████████████████████████████████████████████████| 1000/1000 [00:33<00:00, 30.06it/s]\n"
     ]
    },
    {
     "ename": "error",
     "evalue": "OpenCV(4.9.0) D:\\a\\opencv-python\\opencv-python\\opencv\\modules\\highgui\\src\\window_w32.cpp:1261: error: (-27:Null pointer) NULL window: 'FaceRhythmPointVisualizer' in function 'cvDestroyWindow'\n",
     "output_type": "error",
     "traceback": [
      "\u001b[1;31m---------------------------------------------------------------------------\u001b[0m",
      "\u001b[1;31merror\u001b[0m                                     Traceback (most recent call last)",
      "Cell \u001b[1;32mIn[31], line 20\u001b[0m\n\u001b[0;32m      4\u001b[0m videos\u001b[38;5;241m.\u001b[39mmethod_getitem \u001b[38;5;241m=\u001b[39m \u001b[38;5;124m'\u001b[39m\u001b[38;5;124mby_video\u001b[39m\u001b[38;5;124m'\u001b[39m\n\u001b[0;32m      6\u001b[0m frame_visualizer \u001b[38;5;241m=\u001b[39m fr\u001b[38;5;241m.\u001b[39mvisualization\u001b[38;5;241m.\u001b[39mFrameVisualizer(\n\u001b[0;32m      7\u001b[0m     display\u001b[38;5;241m=\u001b[39m\u001b[38;5;28;01mTrue\u001b[39;00m,\n\u001b[0;32m      8\u001b[0m     error_checking\u001b[38;5;241m=\u001b[39m\u001b[38;5;28;01mTrue\u001b[39;00m,\n\u001b[1;32m   (...)\u001b[0m\n\u001b[0;32m     17\u001b[0m     alpha\u001b[38;5;241m=\u001b[39m\u001b[38;5;241m0.6\u001b[39m,\n\u001b[0;32m     18\u001b[0m )\n\u001b[1;32m---> 20\u001b[0m \u001b[43mfr\u001b[49m\u001b[38;5;241;43m.\u001b[39;49m\u001b[43mvisualization\u001b[49m\u001b[38;5;241;43m.\u001b[39;49m\u001b[43mplay_video_with_points\u001b[49m\u001b[43m(\u001b[49m\n\u001b[0;32m     21\u001b[0m \u001b[43m    \u001b[49m\u001b[43mbufferedVideoReader\u001b[49m\u001b[38;5;241;43m=\u001b[39;49m\u001b[43mvideos\u001b[49m\u001b[43m[\u001b[49m\u001b[43midx_video_to_use\u001b[49m\u001b[43m]\u001b[49m\u001b[43m,\u001b[49m\n\u001b[0;32m     22\u001b[0m \u001b[43m    \u001b[49m\u001b[43mframeVisualizer\u001b[49m\u001b[38;5;241;43m=\u001b[39;49m\u001b[43mframe_visualizer\u001b[49m\u001b[43m,\u001b[49m\n\u001b[0;32m     23\u001b[0m \u001b[43m    \u001b[49m\u001b[43mpoints\u001b[49m\u001b[38;5;241;43m=\u001b[39;49m\u001b[38;5;28;43mlist\u001b[39;49m\u001b[43m(\u001b[49m\u001b[43mpt_data\u001b[49m\u001b[43m[\u001b[49m\u001b[38;5;124;43m'\u001b[39;49m\u001b[38;5;124;43mpoints_tracked\u001b[39;49m\u001b[38;5;124;43m'\u001b[39;49m\u001b[43m]\u001b[49m\u001b[38;5;241;43m.\u001b[39;49m\u001b[43mvalues\u001b[49m\u001b[43m(\u001b[49m\u001b[43m)\u001b[49m\u001b[43m)\u001b[49m\u001b[43m[\u001b[49m\u001b[38;5;241;43m0\u001b[39;49m\u001b[43m]\u001b[49m\u001b[43m,\u001b[49m\n\u001b[0;32m     24\u001b[0m \u001b[43m    \u001b[49m\u001b[43midx_frames\u001b[49m\u001b[38;5;241;43m=\u001b[39;49m\u001b[43midx_frames_to_use\u001b[49m\u001b[43m,\u001b[49m\n\u001b[0;32m     25\u001b[0m \u001b[43m)\u001b[49m\n",
      "File \u001b[1;32m~\\miniconda3\\envs\\face_rhythm\\Lib\\site-packages\\face_rhythm\\visualization.py:491\u001b[0m, in \u001b[0;36mplay_video_with_points\u001b[1;34m(bufferedVideoReader, frameVisualizer, points, idx_frames)\u001b[0m\n\u001b[0;32m    489\u001b[0m         cv2\u001b[38;5;241m.\u001b[39mdestroyWindow(\u001b[38;5;28mself\u001b[39m\u001b[38;5;241m.\u001b[39mframeVisualizer\u001b[38;5;241m.\u001b[39mhandle_cv2Imshow)\n\u001b[0;32m    490\u001b[0m         gc\u001b[38;5;241m.\u001b[39mcollect()\n\u001b[1;32m--> 491\u001b[0m \u001b[43m\u001b[49m\u001b[38;5;28;43;01mwith\u001b[39;49;00m\u001b[43m \u001b[49m\u001b[43mCM\u001b[49m\u001b[43m(\u001b[49m\u001b[43mframeVisualizer\u001b[49m\u001b[43m)\u001b[49m\u001b[43m \u001b[49m\u001b[38;5;28;43;01mas\u001b[39;49;00m\u001b[43m \u001b[49m\u001b[43mf\u001b[49m\u001b[43m:\u001b[49m\n\u001b[0;32m    492\u001b[0m \u001b[43m    \u001b[49m\u001b[38;5;28;43;01mfor\u001b[39;49;00m\u001b[43m \u001b[49m\u001b[43midx_frame\u001b[49m\u001b[43m \u001b[49m\u001b[38;5;129;43;01min\u001b[39;49;00m\u001b[43m \u001b[49m\u001b[43mtqdm\u001b[49m\u001b[43m(\u001b[49m\u001b[43midx_frames\u001b[49m\u001b[43m)\u001b[49m\u001b[43m:\u001b[49m\n\u001b[0;32m    493\u001b[0m \u001b[43m        \u001b[49m\u001b[43mframe\u001b[49m\u001b[43m \u001b[49m\u001b[38;5;241;43m=\u001b[39;49m\u001b[43m \u001b[49m\u001b[43mbufferedVideoReader\u001b[49m\u001b[43m[\u001b[49m\u001b[43midx_frame\u001b[49m\u001b[43m]\u001b[49m\u001b[43m[\u001b[49m\u001b[38;5;241;43m0\u001b[39;49m\u001b[43m]\u001b[49m\n",
      "File \u001b[1;32m~\\miniconda3\\envs\\face_rhythm\\Lib\\site-packages\\face_rhythm\\visualization.py:488\u001b[0m, in \u001b[0;36mplay_video_with_points.<locals>.CM.__exit__\u001b[1;34m(self, exc_type, exc_value, traceback)\u001b[0m\n\u001b[0;32m    487\u001b[0m \u001b[38;5;28;01mdef\u001b[39;00m\u001b[38;5;250m \u001b[39m\u001b[38;5;21m__exit__\u001b[39m(\u001b[38;5;28mself\u001b[39m, exc_type, exc_value, traceback):\n\u001b[1;32m--> 488\u001b[0m     \u001b[38;5;28;43mself\u001b[39;49m\u001b[38;5;241;43m.\u001b[39;49m\u001b[43mframeVisualizer\u001b[49m\u001b[38;5;241;43m.\u001b[39;49m\u001b[43mclose\u001b[49m\u001b[43m(\u001b[49m\u001b[43m)\u001b[49m\n\u001b[0;32m    489\u001b[0m     cv2\u001b[38;5;241m.\u001b[39mdestroyWindow(\u001b[38;5;28mself\u001b[39m\u001b[38;5;241m.\u001b[39mframeVisualizer\u001b[38;5;241m.\u001b[39mhandle_cv2Imshow)\n\u001b[0;32m    490\u001b[0m     gc\u001b[38;5;241m.\u001b[39mcollect()\n",
      "File \u001b[1;32m~\\miniconda3\\envs\\face_rhythm\\Lib\\site-packages\\face_rhythm\\visualization.py:420\u001b[0m, in \u001b[0;36mFrameVisualizer.close\u001b[1;34m(self)\u001b[0m\n\u001b[0;32m    418\u001b[0m \u001b[38;5;28;01mdef\u001b[39;00m\u001b[38;5;250m \u001b[39m\u001b[38;5;21mclose\u001b[39m(\u001b[38;5;28mself\u001b[39m):\n\u001b[0;32m    419\u001b[0m     \u001b[38;5;28;01mif\u001b[39;00m \u001b[38;5;28mself\u001b[39m\u001b[38;5;241m.\u001b[39mvideo_writer \u001b[38;5;129;01mis\u001b[39;00m \u001b[38;5;129;01mnot\u001b[39;00m \u001b[38;5;28;01mNone\u001b[39;00m:\n\u001b[1;32m--> 420\u001b[0m         \u001b[43mcv2\u001b[49m\u001b[38;5;241;43m.\u001b[39;49m\u001b[43mdestroyWindow\u001b[49m\u001b[43m(\u001b[49m\u001b[38;5;28;43mself\u001b[39;49m\u001b[38;5;241;43m.\u001b[39;49m\u001b[43mhandle_cv2Imshow\u001b[49m\u001b[43m)\u001b[49m\n\u001b[0;32m    421\u001b[0m         \u001b[38;5;28;01mtry\u001b[39;00m:\n\u001b[0;32m    422\u001b[0m             \u001b[38;5;28mself\u001b[39m\u001b[38;5;241m.\u001b[39mvideo_writer\u001b[38;5;241m.\u001b[39mrelease()\n",
      "\u001b[1;31merror\u001b[0m: OpenCV(4.9.0) D:\\a\\opencv-python\\opencv-python\\opencv\\modules\\highgui\\src\\window_w32.cpp:1261: error: (-27:Null pointer) NULL window: 'FaceRhythmPointVisualizer' in function 'cvDestroyWindow'\n"
     ]
    }
   ],
   "source": [
    "idx_video_to_use = 0\n",
    "idx_frames_to_use = np.arange(0, 1000)\n",
    "\n",
    "videos.method_getitem = 'by_video'\n",
    "\n",
    "frame_visualizer = fr.visualization.FrameVisualizer(\n",
    "    display=True,\n",
    "    error_checking=True,\n",
    "    verbose=2,\n",
    "    path_save=str(Path(directory_project) / 'visualizations' / 'point_tracking_demo.avi'),\n",
    "#     path_save=None,\n",
    "    frame_height_width=videos.frame_height_width,\n",
    "    frame_rate=data.frame_rate,\n",
    "    point_sizes=3,\n",
    "    points_colors=(0,255,255),\n",
    "#     points_colors=[(cmap((factor_magnitudes / factor_magnitudes.max(0)))*255)[:,:,:3].astype(int).transpose(1,0,2)[0]],\n",
    "    alpha=0.6,\n",
    ")\n",
    "\n",
    "fr.visualization.play_video_with_points(\n",
    "    bufferedVideoReader=videos[idx_video_to_use],\n",
    "    frameVisualizer=frame_visualizer,\n",
    "    points=list(pt_data['points_tracked'].values())[0],\n",
    "    idx_frames=idx_frames_to_use,\n",
    ")"
   ]
  },
  {
   "cell_type": "markdown",
   "metadata": {},
   "source": [
    "# Full video visualization"
   ]
  },
  {
   "cell_type": "code",
   "execution_count": 55,
   "metadata": {},
   "outputs": [],
   "source": [
    "arr = list(pt_data[\"points_tracked\"].values())[0]\n",
    "number_of_frames = arr.shape[0]"
   ]
  },
  {
   "cell_type": "code",
   "execution_count": null,
   "metadata": {},
   "outputs": [],
   "source": [
    "idx_video_to_use = 0\n",
    "idx_frames_to_use = np.arange(0, number_of_frames)\n",
    "\n",
    "videos.method_getitem = 'by_video'\n",
    "\n",
    "frame_visualizer = fr.visualization.FrameVisualizer(\n",
    "    display=True,\n",
    "    error_checking=True,\n",
    "    verbose=2,\n",
    "    path_save=str(Path(directory_project) / 'visualizations' / 'full_point_tracking.avi'),\n",
    "#     path_save=None,\n",
    "    frame_height_width=videos.frame_height_width,\n",
    "    frame_rate=data.frame_rate,\n",
    "    point_sizes=3,\n",
    "    points_colors=(0,255,255),\n",
    "#     points_colors=[(cmap((factor_magnitudes / factor_magnitudes.max(0)))*255)[:,:,:3].astype(int).transpose(1,0,2)[0]],\n",
    "    alpha=0.6,\n",
    ")\n",
    "\n",
    "fr.visualization.play_video_with_points(\n",
    "    bufferedVideoReader=videos[idx_video_to_use],\n",
    "    frameVisualizer=frame_visualizer,\n",
    "    points=list(pt_data['points_tracked'].values())[0],\n",
    "    idx_frames=idx_frames_to_use,\n",
    ")"
   ]
  }
 ],
 "metadata": {
  "kernelspec": {
   "display_name": "Python 3 (ipykernel)",
   "language": "python",
   "name": "python3"
  },
  "language_info": {
   "codemirror_mode": {
    "name": "ipython",
    "version": 3
   },
   "file_extension": ".py",
   "mimetype": "text/x-python",
   "name": "python",
   "nbconvert_exporter": "python",
   "pygments_lexer": "ipython3",
   "version": "3.11.11"
  },
  "pycharm": {
   "stem_cell": {
    "cell_type": "raw",
    "metadata": {
     "collapsed": false
    },
    "source": []
   }
  },
  "varInspector": {
   "cols": {
    "lenName": 16,
    "lenType": 16,
    "lenVar": 40
   },
   "kernels_config": {
    "python": {
     "delete_cmd_postfix": "",
     "delete_cmd_prefix": "del ",
     "library": "var_list.py",
     "varRefreshCmd": "print(var_dic_list())"
    },
    "r": {
     "delete_cmd_postfix": ") ",
     "delete_cmd_prefix": "rm(",
     "library": "var_list.r",
     "varRefreshCmd": "cat(var_dic_list()) "
    }
   },
   "oldHeight": 957.188,
   "position": {
    "height": "40px",
    "left": "1725.67px",
    "right": "20px",
    "top": "124.914px",
    "width": "628.438px"
   },
   "types_to_exclude": [
    "module",
    "function",
    "builtin_function_or_method",
    "instance",
    "_Feature"
   ],
   "varInspector_section_display": "none",
   "window_display": true
  }
 },
 "nbformat": 4,
 "nbformat_minor": 4
}
